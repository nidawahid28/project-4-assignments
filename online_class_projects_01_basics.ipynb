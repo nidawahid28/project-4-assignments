{
  "nbformat": 4,
  "nbformat_minor": 0,
  "metadata": {
    "colab": {
      "provenance": [],
      "authorship_tag": "ABX9TyPAZrsZf9zmaVrFcs7ER0e+",
      "include_colab_link": true
    },
    "kernelspec": {
      "name": "python3",
      "display_name": "Python 3"
    },
    "language_info": {
      "name": "python"
    }
  },
  "cells": [
    {
      "cell_type": "markdown",
      "metadata": {
        "id": "view-in-github",
        "colab_type": "text"
      },
      "source": [
        "<a href=\"https://colab.research.google.com/github/nidawahid28/project-4-assignments/blob/main/online_class_projects_01_basics.ipynb\" target=\"_parent\"><img src=\"https://colab.research.google.com/assets/colab-badge.svg\" alt=\"Open In Colab\"/></a>"
      ]
    },
    {
      "cell_type": "code",
      "execution_count": null,
      "metadata": {
        "colab": {
          "base_uri": "https://localhost:8080/"
        },
        "id": "u9HF5t2ynBsv",
        "outputId": "5040ce12-bf10-4af7-aa04-8dd938f92c39"
      },
      "outputs": [
        {
          "output_type": "stream",
          "name": "stdout",
          "text": [
            "00_joke_bot.\n",
            "What do you want? please tell me a joke\n",
            "Why did the Python developer go hungry? \n",
            "Because their food was in a tuple and they couldn't modify it! 🐍🍽️\n"
          ]
        }
      ],
      "source": [
        "print(\"00_joke_bot.\")\n",
        "\n",
        "PROMPT: str = \"What do you want? \"\n",
        "JOKE: str = \"Why did the Python developer go hungry? \\nBecause their food was in a tuple and they couldn't modify it! 🐍🍽️\"\n",
        "SORRY: str = \"Sorry I only tell jokes.\"\n",
        "\n",
        "def main():\n",
        "    user_input = input(PROMPT)\n",
        "    user_input = user_input.strip().lower()\n",
        "\n",
        "    if \"joke\" in user_input:\n",
        "        print(JOKE)\n",
        "    else:\n",
        "        print(SORRY)\n",
        "\n",
        "if __name__ == \"__main__\":\n",
        "    main()\n"
      ]
    },
    {
      "cell_type": "code",
      "source": [
        "print(\"01_double_it.\")\n",
        "\n",
        "\n",
        "def main():\n",
        "  curr_value = int(input(\"Enter a number: \"))\n",
        "  while curr_value < 100:\n",
        "    curr_value = curr_value * 2\n",
        "    print(curr_value, end=\" \")\n",
        "\n",
        "if __name__==\"__main__\":\n",
        "  main()"
      ],
      "metadata": {
        "id": "ZtAuprV3wJG7",
        "colab": {
          "base_uri": "https://localhost:8080/"
        },
        "outputId": "3e5e6ddd-aba6-4c18-b126-1c871291f4f2"
      },
      "execution_count": 3,
      "outputs": [
        {
          "output_type": "stream",
          "name": "stdout",
          "text": [
            "01_double_it.\n",
            "Enter a number: 2\n",
            "4 8 16 32 64 128 "
          ]
        }
      ]
    },
    {
      "cell_type": "code",
      "source": [
        "print(\"02_liftoff.\")\n",
        "\n",
        "print(\"04_liftoff.\")\n",
        "\n",
        "def main():\n",
        "  for i in range(10,0,-1):\n",
        "    print(i, end=\" \")\n",
        "  print(\"Liftoff!🚀\")\n",
        "\n",
        "if __name__==\"__main__\":\n",
        "  main()"
      ],
      "metadata": {
        "colab": {
          "base_uri": "https://localhost:8080/"
        },
        "id": "MJfN0rl4GEvk",
        "outputId": "aeba0f9d-2331-4146-976b-647ab940d306"
      },
      "execution_count": 4,
      "outputs": [
        {
          "output_type": "stream",
          "name": "stdout",
          "text": [
            "02_liftoff.\n",
            "04_liftoff.\n",
            "10 9 8 7 6 5 4 3 2 1 Liftoff!🚀\n"
          ]
        }
      ]
    },
    {
      "cell_type": "code",
      "source": [
        "import random\n",
        "\n",
        "print(\"03_guess_my_number.\")\n",
        "\n",
        "def main():\n",
        "  secret_number = random.randint(0, 99)\n",
        "  print(\"I am thinking of a number between 0 and 99...\")\n",
        "\n",
        "  guess = int(input(\"Enter a guess: \"))\n",
        "\n",
        "  while guess != secret_number:\n",
        "    if guess < secret_number:\n",
        "     print(\"Your guess is too low. \")\n",
        "    else:\n",
        "     print(\"Your guess is too high. \")\n",
        "\n",
        "    guess = int(input(\"Enter a new guess. \"))\n",
        "\n",
        "  print(f'Congrats! The number was {secret_number}')\n",
        "\n",
        "if __name__==\"__main__\":\n",
        "  main()\n",
        "\n"
      ],
      "metadata": {
        "colab": {
          "base_uri": "https://localhost:8080/"
        },
        "id": "0qJHH_qKGigh",
        "outputId": "f43951c2-9c09-4289-8967-002c20bc168e"
      },
      "execution_count": 5,
      "outputs": [
        {
          "output_type": "stream",
          "name": "stdout",
          "text": [
            "03_guess_my_number.\n",
            "I am thinking of a number between 0 and 99...\n",
            "Enter a guess: 78\n",
            "Your guess is too low. \n",
            "Enter a new guess. 88\n",
            "Your guess is too high. \n",
            "Enter a new guess. 80\n",
            "Your guess is too low. \n",
            "Enter a new guess. 81\n",
            "Your guess is too low. \n",
            "Enter a new guess. 82\n",
            "Your guess is too low. \n",
            "Enter a new guess. 83\n",
            "Your guess is too low. \n",
            "Enter a new guess. 84\n",
            "Your guess is too low. \n",
            "Enter a new guess. 85\n",
            "Your guess is too low. \n",
            "Enter a new guess. 86\n",
            "Congrats! The number was 86\n"
          ]
        }
      ]
    },
    {
      "cell_type": "code",
      "source": [
        "import random\n",
        "\n",
        "print(\"04_random_numbers.\")\n",
        "\n",
        "def main():\n",
        " for _ in range(10):\n",
        "    print(random.randint(0, 100), end=\" \")\n",
        "\n",
        "if __name__==\"__main__\":\n",
        "  main()"
      ],
      "metadata": {
        "colab": {
          "base_uri": "https://localhost:8080/"
        },
        "id": "JU-TPABOHtPz",
        "outputId": "5dd9f380-5d33-49c2-839d-354ec4976a58"
      },
      "execution_count": 7,
      "outputs": [
        {
          "output_type": "stream",
          "name": "stdout",
          "text": [
            "04_random_numbers.\n",
            "90 31 67 50 51 63 87 31 86 83 "
          ]
        }
      ]
    }
  ]
}