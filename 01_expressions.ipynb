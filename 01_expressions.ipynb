{
  "nbformat": 4,
  "nbformat_minor": 0,
  "metadata": {
    "colab": {
      "provenance": [],
      "authorship_tag": "ABX9TyNbuxv/XSRec+Sr69bxwfF3",
      "include_colab_link": true
    },
    "kernelspec": {
      "name": "python3",
      "display_name": "Python 3"
    },
    "language_info": {
      "name": "python"
    }
  },
  "cells": [
    {
      "cell_type": "markdown",
      "metadata": {
        "id": "view-in-github",
        "colab_type": "text"
      },
      "source": [
        "<a href=\"https://colab.research.google.com/github/nidawahid28/project-4-assignments/blob/main/01_expressions.ipynb\" target=\"_parent\"><img src=\"https://colab.research.google.com/assets/colab-badge.svg\" alt=\"Open In Colab\"/></a>"
      ]
    },
    {
      "cell_type": "code",
      "source": [
        "import random\n",
        "print(\"01_dicesimulator\")\n",
        "\n",
        "DIE_SIDES = 6\n",
        "\n",
        "def roll_dice():\n",
        "  die1: int = random.randint(1,DIE_SIDES)\n",
        "  die2: int = random.randint(1,DIE_SIDES)\n",
        "  total: int = die1 + die2\n",
        "  print(f'Total of two dice: {total}')\n",
        "\n",
        "def main():\n",
        "  die1: int = 10\n",
        "  print(\"die1 in main() starts as:\" + str(die1))\n",
        "  roll_dice()\n",
        "  roll_dice()\n",
        "  roll_dice()\n",
        "  print(\"die1 in main() is: \" + str(die1))\n",
        "\n",
        "if __name__=='__main__':\n",
        "  main()\n",
        "\n",
        "\n",
        "\n",
        "\n"
      ],
      "metadata": {
        "colab": {
          "base_uri": "https://localhost:8080/"
        },
        "id": "XIzG92Alkr2A",
        "outputId": "6aee6c10-5301-4b96-e5b8-728231df5f63"
      },
      "execution_count": null,
      "outputs": [
        {
          "output_type": "stream",
          "name": "stdout",
          "text": [
            "01_dicesimulator\n",
            "die1 in main() starts as:10\n",
            "Total of two dice: 8\n",
            "Total of two dice: 8\n",
            "Total of two dice: 4\n",
            "die1 in main() is: 10\n"
          ]
        }
      ]
    },
    {
      "cell_type": "code",
      "source": [],
      "metadata": {
        "id": "dxRnkSXFfx-b"
      },
      "execution_count": null,
      "outputs": []
    },
    {
      "cell_type": "code",
      "source": [
        "print(\"02_e=mc2\")\n",
        "\n",
        "def energy():\n",
        "  c: int =  299792458\n",
        "  m: float =  float(input(\"Enter Kilos of mass: \"))\n",
        "  print(\"e = m * C^2...\")\n",
        "  print(\"Mass = \" + str(m) + \" kg\")\n",
        "  print(\"C = \" + str(c) + \" m/s\")\n",
        "  print(\"e = \" + str(m * c ** 2) + \" jules\")\n",
        "\n",
        "if __name__==\"__main__\":\n",
        "    energy()"
      ],
      "metadata": {
        "colab": {
          "base_uri": "https://localhost:8080/"
        },
        "id": "ojaw399FtJeX",
        "outputId": "18b41774-62de-4b1b-b93f-302961506574"
      },
      "execution_count": null,
      "outputs": [
        {
          "output_type": "stream",
          "name": "stdout",
          "text": [
            "02_e=mc2\n",
            "Enter Kilos of mass: 450\n",
            "e = m * C^2...\n",
            "Mass = 450.0 kg\n",
            "C = 299792458 m/s\n",
            "e = 4.0443983043156795e+19 jules\n"
          ]
        }
      ]
    },
    {
      "cell_type": "code",
      "source": [
        "print(\"03_feet_to_inches\")\n",
        "\n",
        "INCHES_IN_FOOT: int = 12\n",
        "\n",
        "def foot():\n",
        "  feet: int = int(input(\"Enter number of feet: \"))\n",
        "  print(f'There are {INCHES_IN_FOOT * feet} inches in {feet} feet.')\n",
        "\n",
        "if __name__==\"__main__\":\n",
        "  foot()\n",
        "\n",
        "\n"
      ],
      "metadata": {
        "colab": {
          "base_uri": "https://localhost:8080/"
        },
        "id": "hNIdCD3SArmg",
        "outputId": "fb2ebb28-06bc-4aec-d58e-ff0186ad9eb1"
      },
      "execution_count": null,
      "outputs": [
        {
          "output_type": "stream",
          "name": "stdout",
          "text": [
            "03_feet_to_inches\n",
            "Enter number of feet: 45\n",
            "There are 540 inches in 45 feet.\n"
          ]
        }
      ]
    },
    {
      "cell_type": "code",
      "source": [
        "import math\n",
        "print(\"04_pythagorean_theorem\")\n",
        "\n",
        "def triangle():\n",
        "  ab: float = float(input(\"Enter the length of the side ab: \"))\n",
        "  ac: float = float(input(\"Enter the length of the side ac: \"))\n",
        "  bc: float = math.sqrt(ab**2 + ac**2)\n",
        "  print(f'The length of bc (the hypotenuse is : {bc})')\n",
        "\n",
        "if __name__==\"__main__\":\n",
        "    triangle()"
      ],
      "metadata": {
        "colab": {
          "base_uri": "https://localhost:8080/"
        },
        "id": "wu-0Ydzvf0T4",
        "outputId": "c24441d8-4b79-464f-db89-07eeeede4481"
      },
      "execution_count": null,
      "outputs": [
        {
          "output_type": "stream",
          "name": "stdout",
          "text": [
            "04_pythagorean_theorem\n",
            "Enter the length of the side ab: 4\n",
            "Enter the length of the side ac: 6.8\n",
            "The length of bc (the hypotenuse is : 7.889233169326408)\n"
          ]
        }
      ]
    },
    {
      "cell_type": "code",
      "source": [
        "print(\"05_remainder_division\")\n",
        "\n",
        "def remainder():\n",
        "  num1: int = int(input(\"Please enter an integer to be divided: \"))\n",
        "  num2: int = int(input(\"Please enter an integer to divide by: \"))\n",
        "\n",
        "  quotient: int = num1 // num2\n",
        "  remainder: int = num1 % num2\n",
        "  print(f'The result of this division is {quotient} with remainder of {remainder}')\n",
        "\n",
        "if __name__==\"__main__\":\n",
        "  remainder()\n",
        "\n"
      ],
      "metadata": {
        "colab": {
          "base_uri": "https://localhost:8080/"
        },
        "id": "uv4oK1eSb5Zm",
        "outputId": "783458bb-a8aa-4659-8655-76683d7dab0e"
      },
      "execution_count": null,
      "outputs": [
        {
          "output_type": "stream",
          "name": "stdout",
          "text": [
            "05_remainder_division\n",
            "Please enter an integer to be divided: 45\n",
            "Please enter an integer to divide by: 2\n",
            "The result of this division is 22 with remainder of 1\n"
          ]
        }
      ]
    },
    {
      "cell_type": "code",
      "source": [
        "import random\n",
        "print(\"06_rolldice\")\n",
        "\n",
        "def dice():\n",
        "  die1: int = random.randint(1, 6)\n",
        "  die2: int = random.randint(1, 6)\n",
        "  total: int = int(die1 + die2)\n",
        "  print(\"First die : \" + str(die1))\n",
        "  print(\"Second die : \" + str(die2))\n",
        "  print(f'Total of two dice : {total}')\n",
        "\n",
        "if __name__ == '__main__':\n",
        "    dice()\n"
      ],
      "metadata": {
        "colab": {
          "base_uri": "https://localhost:8080/"
        },
        "id": "4noXeRF2iQAU",
        "outputId": "179cdaf8-6357-47b1-c2fd-ccee3305df46"
      },
      "execution_count": null,
      "outputs": [
        {
          "output_type": "stream",
          "name": "stdout",
          "text": [
            "06_rolldice\n",
            "First die : 6\n",
            "Second die : 2\n",
            "Total of two dice : 8\n"
          ]
        }
      ]
    },
    {
      "cell_type": "code",
      "source": [
        "print(\"06_seconds_in_year\")\n",
        "\n",
        "DAYS_PER_YEAR: int = 365\n",
        "HOURS_PER_DAY: int = 24\n",
        "MIN_PER_HOUR: int = 60\n",
        "SEC_PER_MIN: int = 60\n",
        "\n",
        "def seconds():\n",
        "  print(f'There are {DAYS_PER_YEAR * HOURS_PER_DAY * MIN_PER_HOUR * SEC_PER_MIN} seconds in a year! ')\n",
        "\n",
        "if __name__==\"__main__\":\n",
        "  seconds()\n"
      ],
      "metadata": {
        "colab": {
          "base_uri": "https://localhost:8080/"
        },
        "id": "l7JfMy80eiKE",
        "outputId": "63f3a440-27fa-4f7e-81cb-846f1d08d10b"
      },
      "execution_count": null,
      "outputs": [
        {
          "output_type": "stream",
          "name": "stdout",
          "text": [
            "06_seconds_in_year\n",
            "There are 31536000 seconds in a year! \n"
          ]
        }
      ]
    },
    {
      "cell_type": "code",
      "source": [
        "print(\"07_tiny_mad_lib\")\n",
        "\n",
        "SENTENCE_START: str = \"On my way to GIAIC this morning, I saw a \"\n",
        "\n",
        "def mad_lib():\n",
        "  adjective: str = input(\"Please type an adjective and press enter. \")\n",
        "  noun: str = input(\"Please type a noun and press enter. \")\n",
        "  verb: str = input(\"Please type a verb and press enter. \")\n",
        "\n",
        "  print(f\"{SENTENCE_START} {adjective} {noun} trying to {verb}!\")\n",
        "\n",
        "if __name__==\"__main__\":\n",
        "  mad_lib()\n"
      ],
      "metadata": {
        "colab": {
          "base_uri": "https://localhost:8080/"
        },
        "id": "EE_mGDxDhqAr",
        "outputId": "e06d6286-13a3-430f-97e5-299598853cc9"
      },
      "execution_count": 19,
      "outputs": [
        {
          "output_type": "stream",
          "name": "stdout",
          "text": [
            "07_tiny_mad_lib\n",
            "Please type an adjective and press enter. little\n",
            "Please type a noun and press enter. boy\n",
            "Please type a verb and press enter. dance\n",
            "On my way to GIAIC this morning, I saw a  little boy trying to dance!\n"
          ]
        }
      ]
    }
  ]
}