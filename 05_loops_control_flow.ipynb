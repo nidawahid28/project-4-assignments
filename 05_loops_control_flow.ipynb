{
  "cells": [
    {
      "cell_type": "markdown",
      "metadata": {
        "id": "view-in-github",
        "colab_type": "text"
      },
      "source": [
        "<a href=\"https://colab.research.google.com/github/nidawahid28/project-4-assignments/blob/main/05_loops_control_flow.ipynb\" target=\"_parent\"><img src=\"https://colab.research.google.com/assets/colab-badge.svg\" alt=\"Open In Colab\"/></a>"
      ]
    },
    {
      "cell_type": "code",
      "execution_count": null,
      "metadata": {
        "colab": {
          "base_uri": "https://localhost:8080/"
        },
        "id": "h0iEFA9MLxRh",
        "outputId": "3c25a878-b1ca-4927-8687-28b475710633"
      },
      "outputs": [
        {
          "name": "stdout",
          "output_type": "stream",
          "text": [
            "00_guess_my_number.\n",
            "I am thinking of a number between 0 and 99...\n",
            "Enter a guess: 5\n",
            "Your guess is too low. \n",
            "Enter a new guess. 55\n",
            "Your guess is too high. \n",
            "Enter a new guess. 45\n",
            "Your guess is too high. \n",
            "Enter a new guess. 50\n",
            "Your guess is too high. \n",
            "Enter a new guess. 48\n",
            "Your guess is too high. \n",
            "Enter a new guess. 46\n",
            "Your guess is too high. \n",
            "Enter a new guess. 47\n",
            "Your guess is too high. \n",
            "Enter a new guess. 38\n",
            "Your guess is too high. \n",
            "Enter a new guess. 35\n",
            "Your guess is too high. \n",
            "Enter a new guess. 25\n",
            "Your guess is too high. \n",
            "Enter a new guess. 15\n",
            "Your guess is too low. \n",
            "Enter a new guess. 20\n",
            "Congrats! The number was 20\n"
          ]
        }
      ],
      "source": [
        "import random\n",
        "\n",
        "print(\"00_guess_my_number.\")\n",
        "\n",
        "def main():\n",
        "  secret_number = random.randint(0, 99)\n",
        "  print(\"I am thinking of a number between 0 and 99...\")\n",
        "\n",
        "  guess = int(input(\"Enter a guess: \"))\n",
        "\n",
        "  while guess != secret_number:\n",
        "    if guess < secret_number:\n",
        "     print(\"Your guess is too low. \")\n",
        "    else:\n",
        "     print(\"Your guess is too high. \")\n",
        "\n",
        "    guess = int(input(\"Enter a new guess. \"))\n",
        "\n",
        "  print(f'Congrats! The number was {secret_number}')\n",
        "\n",
        "if __name__==\"__main__\":\n",
        "  main()\n",
        "\n",
        "\n",
        "\n",
        "\n",
        "\n"
      ]
    },
    {
      "cell_type": "code",
      "execution_count": null,
      "metadata": {
        "colab": {
          "base_uri": "https://localhost:8080/"
        },
        "id": "bbdrdQEHTiWU",
        "outputId": "f118ab38-a02c-42d0-8ba7-8289752a7c6b"
      },
      "outputs": [
        {
          "output_type": "stream",
          "name": "stdout",
          "text": [
            "01_fibonacci.\n",
            "0 1 1 2 3 5 8 13 21 34 55 89 144 233 377 610 987 1597 2584 4181 6765 "
          ]
        }
      ],
      "source": [
        "print(\"01_fibonacci.\")\n",
        "\n",
        "MAX_VALUE : int = 10000\n",
        "\n",
        "def main():\n",
        "  a,b = 0,1\n",
        "  print(a,b, end = \" \")\n",
        "\n",
        "  while True:\n",
        "    c = a+b\n",
        "    if c >= MAX_VALUE:\n",
        "      break\n",
        "    print(c, end=\" \")\n",
        "    a,b = b,c\n",
        "\n",
        "if __name__==\"__main__\":\n",
        "  main()"
      ]
    },
    {
      "cell_type": "code",
      "source": [
        "print(\"02_print_events.\")\n",
        "\n",
        "def main():\n",
        "  for i in range(20):\n",
        "   print(i * 2, end=\" \")\n",
        "\n",
        "if __name__==\"__main__\":\n",
        "  main()\n",
        "\n"
      ],
      "metadata": {
        "colab": {
          "base_uri": "https://localhost:8080/"
        },
        "id": "LeKFp-Qjfc9J",
        "outputId": "16ae7223-5248-46b8-d3d8-572172aac509"
      },
      "execution_count": null,
      "outputs": [
        {
          "output_type": "stream",
          "name": "stdout",
          "text": [
            "02_print_events.\n",
            "0 2 4 6 8 10 12 14 16 18 20 22 24 26 28 30 32 34 36 38 "
          ]
        }
      ]
    },
    {
      "cell_type": "code",
      "source": [
        "print(\"03_wholesome_machine.\")\n",
        "\n",
        "AFFIRMATION : str = \"I am capable of doing anything I put my mind to.\"\n",
        "\n",
        "def main():\n",
        "   print(\"Welcome to the Wholesome Machine.\")\n",
        "   while True:\n",
        "     user_input = input(\"Please type the following affirmation: \" + AFFIRMATION )\n",
        "     if user_input == AFFIRMATION:\n",
        "      print(\"That's right!\")\n",
        "      break\n",
        "     else:\n",
        "      print(\"That was not the affirmation. Please try again.\")\n",
        "\n",
        "if __name__==\"__main__\":\n",
        "  main()\n",
        "\n"
      ],
      "metadata": {
        "colab": {
          "base_uri": "https://localhost:8080/"
        },
        "id": "nW5I0BPliJrx",
        "outputId": "daa3be5b-5792-4170-8a72-b669a7cc5255"
      },
      "execution_count": 2,
      "outputs": [
        {
          "output_type": "stream",
          "name": "stdout",
          "text": [
            "03_wholesome_machine.\n",
            "Welcome to the Wholesome Machine.\n",
            "Please type the following affirmation: I am capable of doing anything I put my mind to.hello! how are you\n",
            "That was not the affirmation. Please try again.\n",
            "Please type the following affirmation: I am capable of doing anything I put my mind to.I am capable of doing anything I put my mind to.\n",
            "That's right!\n"
          ]
        }
      ]
    },
    {
      "cell_type": "code",
      "source": [
        "print(\"04_liftoff.\")\n",
        "\n",
        "def main():\n",
        "  for i in range(10,0,-1):\n",
        "    print(i, end=\" \")\n",
        "  print(\"Liftoff!🚀\")\n",
        "\n",
        "if __name__==\"__main__\":\n",
        "  main()\n",
        "\n",
        "\n"
      ],
      "metadata": {
        "colab": {
          "base_uri": "https://localhost:8080/"
        },
        "id": "EvZjhvhDie81",
        "outputId": "c5eaec3b-b918-45c8-df56-de67abb48c63"
      },
      "execution_count": 4,
      "outputs": [
        {
          "output_type": "stream",
          "name": "stdout",
          "text": [
            "04_liftoff.\n",
            "10 9 8 7 6 5 4 3 2 1 Liftoff!🚀\n"
          ]
        }
      ]
    },
    {
      "cell_type": "code",
      "source": [
        "print(\"05_double_it.\")\n",
        "\n",
        "def main():\n",
        "  curr_value = int(input(\"Enter a number: \"))\n",
        "  while curr_value < 100:\n",
        "    curr_value = curr_value * 2\n",
        "    print(curr_value, end=\" \")\n",
        "\n",
        "if __name__==\"__main__\":\n",
        "  main()\n",
        "\n",
        "\n",
        "\n"
      ],
      "metadata": {
        "colab": {
          "base_uri": "https://localhost:8080/"
        },
        "id": "NGZo53Ieq0bC",
        "outputId": "2849e8ab-62e4-405d-da2d-851b32597fc9"
      },
      "execution_count": 8,
      "outputs": [
        {
          "output_type": "stream",
          "name": "stdout",
          "text": [
            "05_double_it.\n",
            "Enter a number: 5\n",
            "10 20 40 80 160 "
          ]
        }
      ]
    }
  ],
  "metadata": {
    "colab": {
      "provenance": [],
      "authorship_tag": "ABX9TyPtk2W6wU5bATc7+JDb9MzI",
      "include_colab_link": true
    },
    "kernelspec": {
      "display_name": "Python 3",
      "name": "python3"
    },
    "language_info": {
      "name": "python"
    }
  },
  "nbformat": 4,
  "nbformat_minor": 0
}