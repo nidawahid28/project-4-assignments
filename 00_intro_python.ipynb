{
  "nbformat": 4,
  "nbformat_minor": 0,
  "metadata": {
    "colab": {
      "provenance": [],
      "authorship_tag": "ABX9TyPOCvmhrZQ40epAwpch72rY",
      "include_colab_link": true
    },
    "kernelspec": {
      "name": "python3",
      "display_name": "Python 3"
    },
    "language_info": {
      "name": "python"
    }
  },
  "cells": [
    {
      "cell_type": "markdown",
      "metadata": {
        "id": "view-in-github",
        "colab_type": "text"
      },
      "source": [
        "<a href=\"https://colab.research.google.com/github/nidawahid28/project-4-assignments/blob/main/00_intro_python.ipynb\" target=\"_parent\"><img src=\"https://colab.research.google.com/assets/colab-badge.svg\" alt=\"Open In Colab\"/></a>"
      ]
    },
    {
      "cell_type": "code",
      "execution_count": null,
      "metadata": {
        "colab": {
          "base_uri": "https://localhost:8080/"
        },
        "id": "WTroiyBlHMfn",
        "outputId": "24f55702-0f17-417e-d192-4496d55e33e1"
      },
      "outputs": [
        {
          "output_type": "stream",
          "name": "stdout",
          "text": [
            "01_add_two_numbers\n",
            "This program adds two numbers.\n",
            "Enter your first number: 4\n",
            "Enter your second number: 7\n",
            "The total sum of 4 and 7 is 11\n"
          ]
        }
      ],
      "source": [
        "print(\"01_add_two_numbers\")\n",
        "\n",
        "def add():\n",
        "  print(\"This program adds two numbers.\")\n",
        "  first_number = int(input(\"Enter your first number: \"))\n",
        "  second_number = int(input(\"Enter your second number: \"))\n",
        "  total = first_number + second_number\n",
        "  print(f'The total sum of {first_number} and {second_number} is {total}')\n",
        "\n",
        "if __name__ == '__main__':\n",
        "    add()\n",
        "\n",
        "\n"
      ]
    },
    {
      "cell_type": "code",
      "source": [],
      "metadata": {
        "id": "p944o8FMK_PV"
      },
      "execution_count": null,
      "outputs": []
    },
    {
      "cell_type": "code",
      "source": [],
      "metadata": {
        "id": "SrTKCxnfZmjP"
      },
      "execution_count": null,
      "outputs": []
    },
    {
      "cell_type": "code",
      "source": [
        "print(\"02_agreement_bot\")\n",
        "\n",
        "def bot():\n",
        "  animal = str(input(\"What's your favorite animal? \"))\n",
        "  print(f'My favorite animal is also {animal}!')\n",
        "\n",
        "if __name__==\"__main__\":\n",
        "  bot()"
      ],
      "metadata": {
        "colab": {
          "base_uri": "https://localhost:8080/"
        },
        "id": "WqV3FsjaPNar",
        "outputId": "aecd7d3d-edf9-4e1c-9d1a-7482a6bbf68e"
      },
      "execution_count": null,
      "outputs": [
        {
          "output_type": "stream",
          "name": "stdout",
          "text": [
            "02_agreement_bot\n",
            "What's your favorite animal? cat\n",
            "My favorite animal is also cat!\n"
          ]
        }
      ]
    },
    {
      "cell_type": "code",
      "source": [
        "print(\"03_fahrenheit_to_celsius\")\n",
        "\n",
        "def temp():\n",
        "  print(\"This program converts fahrenheit to celsius\")\n",
        "  fahrenheit_degree = float(input(\"Enter temperature in fahrenheit. \"))\n",
        "  celsius_degree =  (fahrenheit_degree - 32) * 5.0/9.0\n",
        "  print(f'Temperature {fahrenheit_degree} F = {celsius_degree} C')\n",
        "\n",
        "if __name__ == \"__main__\":\n",
        "  temp()\n"
      ],
      "metadata": {
        "colab": {
          "base_uri": "https://localhost:8080/"
        },
        "id": "IrFVpev5VbqA",
        "outputId": "d6ef2192-710c-4cba-c905-cba23bdab2d1"
      },
      "execution_count": null,
      "outputs": [
        {
          "output_type": "stream",
          "name": "stdout",
          "text": [
            "03_fahrenheit_to_celsius\n",
            "This program converts fahrenheit to celsius\n",
            "Enter temperature in fahrenheit. 45\n",
            "Temperature 45.0 F = 7.222222222222222 C\n"
          ]
        }
      ]
    },
    {
      "cell_type": "code",
      "source": [
        "print(\"04_how_old_are_they.\")\n",
        "\n",
        "def add_ages():\n",
        "  anthon : int = 21\n",
        "  beth : int = 6 + anthon\n",
        "  chen : int = 20 + beth\n",
        "  drew : int = chen + anthon\n",
        "  ethan : int = chen\n",
        "\n",
        "  print(\"Anthon is \" + str(anthon))\n",
        "  print(\"Beth is \" + str(beth))\n",
        "  print(\"Chen is \" + str(chen))\n",
        "  print(\"Drew is \" + str(drew))\n",
        "  print(\"Ethan is \" + str(ethan))\n",
        "\n",
        "if __name__ == '__main__':\n",
        "  add_ages()\n",
        "\n",
        "\n",
        "\n",
        "\n",
        "\n",
        "\n"
      ],
      "metadata": {
        "colab": {
          "base_uri": "https://localhost:8080/"
        },
        "id": "905ael4MolYJ",
        "outputId": "022f3384-c859-40a1-a147-405bc0667e03"
      },
      "execution_count": null,
      "outputs": [
        {
          "output_type": "stream",
          "name": "stdout",
          "text": [
            "04_how_old_are_they.\n",
            "Anthon is 21\n",
            "Beth is 27\n",
            "Chen is 47\n",
            "Drew is 68\n",
            "Ethan is 47\n"
          ]
        }
      ]
    },
    {
      "cell_type": "code",
      "source": [
        "print(\"05_triangle_perimeter.\")\n",
        "\n",
        "def triangle():\n",
        "  print(\"This code is about perimeter of triangle.\")\n",
        "  side1: float = float(input(\"Enter the length of side 1. \"))\n",
        "  side2: float = float(input(\"Enter  the length of side 2. \"))\n",
        "  side3: float = float(input(\"Enter the length of side 3. \"))\n",
        "  total: float = float(side1 + side2 + side3)\n",
        "  print(f'The sum of {side1}, {side2} and {side3} is {total}')\n",
        "\n",
        "if __name__==\"__main__\":\n",
        "  triangle()\n"
      ],
      "metadata": {
        "id": "FENGHRwcLEUb",
        "colab": {
          "base_uri": "https://localhost:8080/"
        },
        "outputId": "cec9cb98-506b-466a-9ce5-28a7a1c0d190"
      },
      "execution_count": 4,
      "outputs": [
        {
          "output_type": "stream",
          "name": "stdout",
          "text": [
            "05_triangle_perimeter.\n",
            "This code is about perimeter of triangle.\n",
            "Enter the length of side 1. 1.1\n",
            "Enter  the length of side 2. 1.1\n",
            "Enter the length of side 3. 1.1\n",
            "The sum of 1.1, 1.1 and 1.1 is 3.3000000000000003\n"
          ]
        }
      ]
    },
    {
      "cell_type": "code",
      "source": [
        "print(\"06_square_number.\")\n",
        "\n",
        "def square():\n",
        "  print(\"This code is about square of given number\")\n",
        "  num1: int = int(input(\"Enter a number to see its square: \"))\n",
        "  print(f'The square of {num1} is {(num1 ** 2)} ')\n",
        "\n",
        "if __name__==\"__main__\":\n",
        "    square()\n"
      ],
      "metadata": {
        "colab": {
          "base_uri": "https://localhost:8080/"
        },
        "id": "_lfJ4oGqZ1m1",
        "outputId": "11ed5574-e3ce-43c1-c5b2-150c6a6a52df"
      },
      "execution_count": 7,
      "outputs": [
        {
          "output_type": "stream",
          "name": "stdout",
          "text": [
            "06_square_number.\n",
            "This code is about square of given number\n",
            "Enter a number to see its square: 5\n",
            "The square of 5 is 25 \n"
          ]
        }
      ]
    }
  ]
}