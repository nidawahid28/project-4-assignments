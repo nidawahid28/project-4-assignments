{
  "nbformat": 4,
  "nbformat_minor": 0,
  "metadata": {
    "colab": {
      "provenance": [],
      "authorship_tag": "ABX9TyMW2o9tqg9WPk28ZYsu5QuY",
      "include_colab_link": true
    },
    "kernelspec": {
      "name": "python3",
      "display_name": "Python 3"
    },
    "language_info": {
      "name": "python"
    }
  },
  "cells": [
    {
      "cell_type": "markdown",
      "metadata": {
        "id": "view-in-github",
        "colab_type": "text"
      },
      "source": [
        "<a href=\"https://colab.research.google.com/github/nidawahid28/project-4-assignments/blob/main/03_if_statements.ipynb\" target=\"_parent\"><img src=\"https://colab.research.google.com/assets/colab-badge.svg\" alt=\"Open In Colab\"/></a>"
      ]
    },
    {
      "cell_type": "code",
      "execution_count": 1,
      "metadata": {
        "id": "WTCpUxiMYjIS",
        "colab": {
          "base_uri": "https://localhost:8080/"
        },
        "outputId": "02ebb917-ce6e-489c-d0be-2364fea03de4"
      },
      "outputs": [
        {
          "output_type": "stream",
          "name": "stdout",
          "text": [
            "01_print_events\n",
            "First 20 even numbers are:\n",
            "0 2 4 6 8 10 12 14 16 18 20 22 24 26 28 30 32 34 36 38 "
          ]
        }
      ],
      "source": [
        "print(\"01_print_events\")\n",
        "\n",
        "def even():\n",
        "    print(\"First 20 even numbers are:\")\n",
        "    for i in range(20):\n",
        "      print(i * 2, end=\" \")\n",
        "\n",
        "\n",
        "\n",
        "if __name__==\"__main__\":\n",
        "  even()\n",
        "\n"
      ]
    },
    {
      "cell_type": "code",
      "source": [
        "print(\"02_international_voting_age.\")\n",
        "\n",
        "VOTING_AGE_PETURKSBOUIPO : int = 16\n",
        "VOTING_AGE_STANLAU : int = 25\n",
        "VOTING_AGE_MAYENGUA : int = 48\n",
        "\n",
        "def main():\n",
        "  # Ask the user for their age\n",
        "  user_age = int(input(\"How old are you? \"))\n",
        "\n",
        "  # Check and print voting eligibility for each country\n",
        "  if user_age >= VOTING_AGE_PETURKSBOUIPO:\n",
        "    print(f'You can vote in Peturksbouipo where the voting age is {VOTING_AGE_PETURKSBOUIPO}')\n",
        "  else:\n",
        "    print(f'You cannot vote in Peturksbouipo where the voting age is { VOTING_AGE_PETURKSBOUIPO} ')\n",
        "\n",
        "  if user_age >= VOTING_AGE_STANLAU:\n",
        "    print(f'You can vote in Stanlau where the voting age is {VOTING_AGE_STANLAU}')\n",
        "  else:\n",
        "    print(f'You cannot vote in Stanlau where the voting age is {VOTING_AGE_STANLAU}')\n",
        "\n",
        "  if user_age >= VOTING_AGE_MAYENGUA:\n",
        "    print(f'You can vote in Mayengua where the voting age is {VOTING_AGE_MAYENGUA}')\n",
        "  else:\n",
        "    print(f'You cannot vote in Mayengua where the voting age is {VOTING_AGE_MAYENGUA} ')\n",
        "\n",
        "# Run the main function\n",
        "if __name__==\"__main__\":\n",
        "  main()\n",
        "\n",
        "\n",
        "\n",
        "\n",
        "\n",
        "\n"
      ],
      "metadata": {
        "id": "yKulF0C2ZQaA",
        "colab": {
          "base_uri": "https://localhost:8080/"
        },
        "outputId": "e5dadbe9-ebf5-4cde-f7fb-f7f4d6da2b35"
      },
      "execution_count": null,
      "outputs": [
        {
          "output_type": "stream",
          "name": "stdout",
          "text": [
            "02_international_voting_age.\n",
            "How old are you? 35\n",
            "You can vote in Peturksbouipo where the voting age is 16\n",
            "You can vote in Stanlau where the voting age is 25\n",
            "You cannot vote in Mayengua where the voting age is 48 \n"
          ]
        }
      ]
    },
    {
      "cell_type": "code",
      "source": [
        "print(\"03_leap_year.\")\n",
        "\n",
        "def leap_year():\n",
        "    # Ask user to enter a year\n",
        "    year = int(input(\"Please enter the year:\"))\n",
        "\n",
        "    if year % 4 == 0: # Checking whether the year is divisible by 4\n",
        "      if year % 100 == 0:  #  Checking whether the year is divisible by 100\n",
        "        if year % 400 == 0: # Checking whether the year is divisible by 400\n",
        "          print(f'{year} is a leap year!')\n",
        "        else:\n",
        "            print(f'{year} is not a leap year!') # Not divisible by 400\n",
        "      else:\n",
        "          print(f'{year} is a leap year!') # Not divisible by 100\n",
        "    else:\n",
        "        print(f'{year} is not a leap year!') # Not divisible by 4\n",
        "\n",
        "if __name__==\"__main__\":\n",
        "    leap_year()\n",
        "\n",
        "\n",
        "\n"
      ],
      "metadata": {
        "colab": {
          "base_uri": "https://localhost:8080/"
        },
        "id": "r6DXwpPqSiqQ",
        "outputId": "a395fc3d-38c3-4540-bd7e-d5e15c4fe752"
      },
      "execution_count": null,
      "outputs": [
        {
          "output_type": "stream",
          "name": "stdout",
          "text": [
            "03_leap_year.\n",
            "Please enter the year:2024\n",
            "2024 is a leap year!\n"
          ]
        }
      ]
    },
    {
      "cell_type": "code",
      "source": [
        "print(\"04_tall_enough_to_ride.\")\n",
        "\n",
        "MINIMUM_HEIGHT : int = 50\n",
        "\n",
        "def main():\n",
        "      user_height = float(input(\"How tall are you?\"))\n",
        "      if user_height >= MINIMUM_HEIGHT:\n",
        "        print(\"You're tall enough to ride!\")\n",
        "      else:\n",
        "        print(\"You're not tall enough to ride, but maybe next year!\")\n",
        "\n",
        "if __name__==\"__main__\":\n",
        "  main()\n",
        "\n",
        "\n",
        "\n",
        "\n",
        "\n"
      ],
      "metadata": {
        "colab": {
          "base_uri": "https://localhost:8080/"
        },
        "id": "a_GLEBAEOSPU",
        "outputId": "ec1979e0-2f5a-4b6a-d283-ee2489224ee3"
      },
      "execution_count": null,
      "outputs": [
        {
          "output_type": "stream",
          "name": "stdout",
          "text": [
            "04_tall_enough_to_ride.\n",
            "How tall are you?45\n",
            "You're not tall enough to ride, but maybe next year!\n"
          ]
        }
      ]
    },
    {
      "cell_type": "code",
      "source": [
        "print(\"05_random_numbers.\")\n",
        "\n",
        "import random\n",
        "\n",
        "def main():\n",
        "  for i in range(10):\n",
        "    num = random.randint(1, 100)\n",
        "    print(num, end=\" \")\n",
        "\n",
        "if __name__==\"__main__\":\n",
        "  main()\n",
        "\n",
        "\n",
        "\n"
      ],
      "metadata": {
        "colab": {
          "base_uri": "https://localhost:8080/"
        },
        "id": "yC0tyIGvSPsE",
        "outputId": "d451a2a5-5b23-47d3-d8ee-029e188060e0"
      },
      "execution_count": null,
      "outputs": [
        {
          "output_type": "stream",
          "name": "stdout",
          "text": [
            "05_random_numbers.\n",
            "64 51 13 41 70 43 18 66 63 95 "
          ]
        }
      ]
    }
  ]
}