{
  "nbformat": 4,
  "nbformat_minor": 0,
  "metadata": {
    "colab": {
      "provenance": [],
      "authorship_tag": "ABX9TyMvf6cChet8ixPeZWyO1SKx",
      "include_colab_link": true
    },
    "kernelspec": {
      "name": "python3",
      "display_name": "Python 3"
    },
    "language_info": {
      "name": "python"
    },
    "widgets": {
      "application/vnd.jupyter.widget-state+json": {
        "d4d5f131e3bf4a7bb8b55f08d0e09896": {
          "model_module": "@jupyter-widgets/controls",
          "model_name": "VBoxModel",
          "model_module_version": "1.5.0",
          "state": {
            "_dom_classes": [],
            "_model_module": "@jupyter-widgets/controls",
            "_model_module_version": "1.5.0",
            "_model_name": "VBoxModel",
            "_view_count": null,
            "_view_module": "@jupyter-widgets/controls",
            "_view_module_version": "1.5.0",
            "_view_name": "VBoxView",
            "box_style": "",
            "children": [
              "IPY_MODEL_f698c6bfd0764f8791fb80c378dfb0b6",
              "IPY_MODEL_8caed1adf17240fba2485bda4b857b78"
            ],
            "layout": "IPY_MODEL_6a5d81a1fea94b4987ca16453d80b539"
          }
        },
        "f698c6bfd0764f8791fb80c378dfb0b6": {
          "model_module": "@jupyter-widgets/controls",
          "model_name": "IntSliderModel",
          "model_module_version": "1.5.0",
          "state": {
            "_dom_classes": [],
            "_model_module": "@jupyter-widgets/controls",
            "_model_module_version": "1.5.0",
            "_model_name": "IntSliderModel",
            "_view_count": null,
            "_view_module": "@jupyter-widgets/controls",
            "_view_module_version": "1.5.0",
            "_view_name": "IntSliderView",
            "continuous_update": true,
            "description": "Eraser X",
            "description_tooltip": null,
            "disabled": false,
            "layout": "IPY_MODEL_b7872cbdb318402db251e4e1d1a4c9f9",
            "max": 380,
            "min": 0,
            "orientation": "horizontal",
            "readout": true,
            "readout_format": "d",
            "step": 5,
            "style": "IPY_MODEL_9a2b52fa98fb46e4a4663d813eaf74d2",
            "value": 295
          }
        },
        "8caed1adf17240fba2485bda4b857b78": {
          "model_module": "@jupyter-widgets/controls",
          "model_name": "IntSliderModel",
          "model_module_version": "1.5.0",
          "state": {
            "_dom_classes": [],
            "_model_module": "@jupyter-widgets/controls",
            "_model_module_version": "1.5.0",
            "_model_name": "IntSliderModel",
            "_view_count": null,
            "_view_module": "@jupyter-widgets/controls",
            "_view_module_version": "1.5.0",
            "_view_name": "IntSliderView",
            "continuous_update": true,
            "description": "Eraser Y",
            "description_tooltip": null,
            "disabled": false,
            "layout": "IPY_MODEL_65c8e9f7452842b4b78a81e81a5902fd",
            "max": 380,
            "min": 0,
            "orientation": "horizontal",
            "readout": true,
            "readout_format": "d",
            "step": 5,
            "style": "IPY_MODEL_4903cc23ce0041b383d66b024adbe689",
            "value": 210
          }
        },
        "6a5d81a1fea94b4987ca16453d80b539": {
          "model_module": "@jupyter-widgets/base",
          "model_name": "LayoutModel",
          "model_module_version": "1.2.0",
          "state": {
            "_model_module": "@jupyter-widgets/base",
            "_model_module_version": "1.2.0",
            "_model_name": "LayoutModel",
            "_view_count": null,
            "_view_module": "@jupyter-widgets/base",
            "_view_module_version": "1.2.0",
            "_view_name": "LayoutView",
            "align_content": null,
            "align_items": null,
            "align_self": null,
            "border": null,
            "bottom": null,
            "display": null,
            "flex": null,
            "flex_flow": null,
            "grid_area": null,
            "grid_auto_columns": null,
            "grid_auto_flow": null,
            "grid_auto_rows": null,
            "grid_column": null,
            "grid_gap": null,
            "grid_row": null,
            "grid_template_areas": null,
            "grid_template_columns": null,
            "grid_template_rows": null,
            "height": null,
            "justify_content": null,
            "justify_items": null,
            "left": null,
            "margin": null,
            "max_height": null,
            "max_width": null,
            "min_height": null,
            "min_width": null,
            "object_fit": null,
            "object_position": null,
            "order": null,
            "overflow": null,
            "overflow_x": null,
            "overflow_y": null,
            "padding": null,
            "right": null,
            "top": null,
            "visibility": null,
            "width": null
          }
        },
        "b7872cbdb318402db251e4e1d1a4c9f9": {
          "model_module": "@jupyter-widgets/base",
          "model_name": "LayoutModel",
          "model_module_version": "1.2.0",
          "state": {
            "_model_module": "@jupyter-widgets/base",
            "_model_module_version": "1.2.0",
            "_model_name": "LayoutModel",
            "_view_count": null,
            "_view_module": "@jupyter-widgets/base",
            "_view_module_version": "1.2.0",
            "_view_name": "LayoutView",
            "align_content": null,
            "align_items": null,
            "align_self": null,
            "border": null,
            "bottom": null,
            "display": null,
            "flex": null,
            "flex_flow": null,
            "grid_area": null,
            "grid_auto_columns": null,
            "grid_auto_flow": null,
            "grid_auto_rows": null,
            "grid_column": null,
            "grid_gap": null,
            "grid_row": null,
            "grid_template_areas": null,
            "grid_template_columns": null,
            "grid_template_rows": null,
            "height": null,
            "justify_content": null,
            "justify_items": null,
            "left": null,
            "margin": null,
            "max_height": null,
            "max_width": null,
            "min_height": null,
            "min_width": null,
            "object_fit": null,
            "object_position": null,
            "order": null,
            "overflow": null,
            "overflow_x": null,
            "overflow_y": null,
            "padding": null,
            "right": null,
            "top": null,
            "visibility": null,
            "width": null
          }
        },
        "9a2b52fa98fb46e4a4663d813eaf74d2": {
          "model_module": "@jupyter-widgets/controls",
          "model_name": "SliderStyleModel",
          "model_module_version": "1.5.0",
          "state": {
            "_model_module": "@jupyter-widgets/controls",
            "_model_module_version": "1.5.0",
            "_model_name": "SliderStyleModel",
            "_view_count": null,
            "_view_module": "@jupyter-widgets/base",
            "_view_module_version": "1.2.0",
            "_view_name": "StyleView",
            "description_width": "",
            "handle_color": null
          }
        },
        "65c8e9f7452842b4b78a81e81a5902fd": {
          "model_module": "@jupyter-widgets/base",
          "model_name": "LayoutModel",
          "model_module_version": "1.2.0",
          "state": {
            "_model_module": "@jupyter-widgets/base",
            "_model_module_version": "1.2.0",
            "_model_name": "LayoutModel",
            "_view_count": null,
            "_view_module": "@jupyter-widgets/base",
            "_view_module_version": "1.2.0",
            "_view_name": "LayoutView",
            "align_content": null,
            "align_items": null,
            "align_self": null,
            "border": null,
            "bottom": null,
            "display": null,
            "flex": null,
            "flex_flow": null,
            "grid_area": null,
            "grid_auto_columns": null,
            "grid_auto_flow": null,
            "grid_auto_rows": null,
            "grid_column": null,
            "grid_gap": null,
            "grid_row": null,
            "grid_template_areas": null,
            "grid_template_columns": null,
            "grid_template_rows": null,
            "height": null,
            "justify_content": null,
            "justify_items": null,
            "left": null,
            "margin": null,
            "max_height": null,
            "max_width": null,
            "min_height": null,
            "min_width": null,
            "object_fit": null,
            "object_position": null,
            "order": null,
            "overflow": null,
            "overflow_x": null,
            "overflow_y": null,
            "padding": null,
            "right": null,
            "top": null,
            "visibility": null,
            "width": null
          }
        },
        "4903cc23ce0041b383d66b024adbe689": {
          "model_module": "@jupyter-widgets/controls",
          "model_name": "SliderStyleModel",
          "model_module_version": "1.5.0",
          "state": {
            "_model_module": "@jupyter-widgets/controls",
            "_model_module_version": "1.5.0",
            "_model_name": "SliderStyleModel",
            "_view_count": null,
            "_view_module": "@jupyter-widgets/base",
            "_view_module_version": "1.2.0",
            "_view_name": "StyleView",
            "description_width": "",
            "handle_color": null
          }
        },
        "06632272f1a54b7b92b8c838953eb504": {
          "model_module": "@jupyter-widgets/output",
          "model_name": "OutputModel",
          "model_module_version": "1.0.0",
          "state": {
            "_dom_classes": [],
            "_model_module": "@jupyter-widgets/output",
            "_model_module_version": "1.0.0",
            "_model_name": "OutputModel",
            "_view_count": null,
            "_view_module": "@jupyter-widgets/output",
            "_view_module_version": "1.0.0",
            "_view_name": "OutputView",
            "layout": "IPY_MODEL_d1b59f35e85a410e8c07b5790e170d47",
            "msg_id": "",
            "outputs": [
              {
                "output_type": "display_data",
                "data": {
                  "text/plain": "<Figure size 600x600 with 1 Axes>",
                  "image/png": "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\n"
                },
                "metadata": {}
              }
            ]
          }
        },
        "d1b59f35e85a410e8c07b5790e170d47": {
          "model_module": "@jupyter-widgets/base",
          "model_name": "LayoutModel",
          "model_module_version": "1.2.0",
          "state": {
            "_model_module": "@jupyter-widgets/base",
            "_model_module_version": "1.2.0",
            "_model_name": "LayoutModel",
            "_view_count": null,
            "_view_module": "@jupyter-widgets/base",
            "_view_module_version": "1.2.0",
            "_view_name": "LayoutView",
            "align_content": null,
            "align_items": null,
            "align_self": null,
            "border": null,
            "bottom": null,
            "display": null,
            "flex": null,
            "flex_flow": null,
            "grid_area": null,
            "grid_auto_columns": null,
            "grid_auto_flow": null,
            "grid_auto_rows": null,
            "grid_column": null,
            "grid_gap": null,
            "grid_row": null,
            "grid_template_areas": null,
            "grid_template_columns": null,
            "grid_template_rows": null,
            "height": null,
            "justify_content": null,
            "justify_items": null,
            "left": null,
            "margin": null,
            "max_height": null,
            "max_width": null,
            "min_height": null,
            "min_width": null,
            "object_fit": null,
            "object_position": null,
            "order": null,
            "overflow": null,
            "overflow_x": null,
            "overflow_y": null,
            "padding": null,
            "right": null,
            "top": null,
            "visibility": null,
            "width": null
          }
        }
      }
    }
  },
  "cells": [
    {
      "cell_type": "markdown",
      "metadata": {
        "id": "view-in-github",
        "colab_type": "text"
      },
      "source": [
        "<a href=\"https://colab.research.google.com/github/nidawahid28/project-4-assignments/blob/main/02_lists.ipynb\" target=\"_parent\"><img src=\"https://colab.research.google.com/assets/colab-badge.svg\" alt=\"Open In Colab\"/></a>"
      ]
    },
    {
      "cell_type": "code",
      "execution_count": null,
      "metadata": {
        "colab": {
          "base_uri": "https://localhost:8080/"
        },
        "id": "IppG74d43XOg",
        "outputId": "a60d5167-97af-4e3a-d159-1e8f3e5ea848"
      },
      "outputs": [
        {
          "output_type": "stream",
          "name": "stdout",
          "text": [
            "01_add_many_number\n",
            "15\n"
          ]
        }
      ],
      "source": [
        "print(\"01_add_many_number\")\n",
        "\n",
        "def add_number(numbers)->int:\n",
        "  num:int = 0\n",
        "  for i in numbers:\n",
        "    num += i\n",
        "  return num\n",
        "\n",
        "def main():\n",
        "  numbers: list[int] = [1, 2, 3, 4, 5]\n",
        "  sum = add_number(numbers)\n",
        "  print(sum)\n",
        "\n",
        "if __name__==\"__main__\":\n",
        "  main()\n"
      ]
    },
    {
      "cell_type": "code",
      "source": [
        "print(\"02_double_list\")\n",
        "\n",
        "def main():\n",
        "  numbers: list[int] = [1, 2, 3, 4, 5]\n",
        "  for i in range(len(numbers)):\n",
        "    index = numbers[i]\n",
        "    numbers[i] = index * 2\n",
        "  print(numbers)\n",
        "\n",
        "if __name__==\"__main__\":\n",
        "  main()\n",
        "\n"
      ],
      "metadata": {
        "colab": {
          "base_uri": "https://localhost:8080/"
        },
        "id": "98cZFwGcTPoM",
        "outputId": "e3f58ad6-3ede-412c-e357-2ff13efa7512"
      },
      "execution_count": null,
      "outputs": [
        {
          "output_type": "stream",
          "name": "stdout",
          "text": [
            "02_double_list\n",
            "[2, 4, 6, 8, 10]\n"
          ]
        }
      ]
    },
    {
      "cell_type": "code",
      "source": [
        "import numpy as np\n",
        "import matplotlib.pyplot as plt\n",
        "from matplotlib.patches import Rectangle\n",
        "import ipywidgets as widgets\n",
        "from IPython.display import display, clear_output\n",
        "print(\"03_erase_canvas\")\n",
        "\n",
        "# Canvas setup\n",
        "CANVAS_WIDTH = 400\n",
        "CANVAS_HEIGHT = 400\n",
        "CELL_SIZE = 40\n",
        "ERASER_SIZE = 20\n",
        "\n",
        "num_rows = CANVAS_HEIGHT // CELL_SIZE\n",
        "num_cols = CANVAS_WIDTH // CELL_SIZE\n",
        "\n",
        "# Create a set to keep track of erased cells\n",
        "erased_cells = set()\n",
        "\n",
        "# Function to draw the canvas + eraser\n",
        "def draw_canvas(x=0, y=0):\n",
        "    clear_output(wait=True)  # clear previous drawing\n",
        "\n",
        "    fig, ax = plt.subplots(figsize=(6, 6))\n",
        "    ax.set_xlim(0, CANVAS_WIDTH)\n",
        "    ax.set_ylim(0, CANVAS_HEIGHT)\n",
        "    ax.set_aspect('equal')\n",
        "    plt.gca().invert_yaxis()\n",
        "    plt.axis('off')\n",
        "\n",
        "    # Draw grid of rectangles\n",
        "    for row in range(num_rows):\n",
        "        for col in range(num_cols):\n",
        "            left = col * CELL_SIZE\n",
        "            top = row * CELL_SIZE\n",
        "            cell_id = (row, col)\n",
        "\n",
        "            # Check if eraser overlaps and mark cell as erased\n",
        "            if (\n",
        "                x < left + CELL_SIZE and x + ERASER_SIZE > left and\n",
        "                y < top + CELL_SIZE and y + ERASER_SIZE > top\n",
        "            ):\n",
        "                erased_cells.add(cell_id)\n",
        "\n",
        "            color = 'white' if cell_id in erased_cells else 'blue'\n",
        "            rect = Rectangle((left, top), CELL_SIZE, CELL_SIZE, color=color)\n",
        "            ax.add_patch(rect)\n",
        "\n",
        "    # Draw eraser\n",
        "    eraser = Rectangle((x, y), ERASER_SIZE, ERASER_SIZE, color='pink')\n",
        "    ax.add_patch(eraser)\n",
        "    plt.show()\n",
        "\n",
        "# Create sliders for x and y\n",
        "x_slider = widgets.IntSlider(min=0, max=CANVAS_WIDTH - ERASER_SIZE, step=5, description='Eraser X')\n",
        "y_slider = widgets.IntSlider(min=0, max=CANVAS_HEIGHT - ERASER_SIZE, step=5, description='Eraser Y')\n",
        "\n",
        "# Connect sliders to canvas drawing\n",
        "ui = widgets.VBox([x_slider, y_slider])\n",
        "out = widgets.interactive_output(draw_canvas, {'x': x_slider, 'y': y_slider})\n",
        "\n",
        "# Display the UI\n",
        "display(ui, out)\n"
      ],
      "metadata": {
        "colab": {
          "base_uri": "https://localhost:8080/",
          "height": 580,
          "referenced_widgets": [
            "d4d5f131e3bf4a7bb8b55f08d0e09896",
            "f698c6bfd0764f8791fb80c378dfb0b6",
            "8caed1adf17240fba2485bda4b857b78",
            "6a5d81a1fea94b4987ca16453d80b539",
            "b7872cbdb318402db251e4e1d1a4c9f9",
            "9a2b52fa98fb46e4a4663d813eaf74d2",
            "65c8e9f7452842b4b78a81e81a5902fd",
            "4903cc23ce0041b383d66b024adbe689",
            "06632272f1a54b7b92b8c838953eb504",
            "d1b59f35e85a410e8c07b5790e170d47"
          ]
        },
        "id": "oAo6mKgWDoEF",
        "outputId": "f558f2de-6fab-43be-eef8-084d99a82f55"
      },
      "execution_count": 24,
      "outputs": [
        {
          "output_type": "stream",
          "name": "stdout",
          "text": [
            "03_erase_canvas\n"
          ]
        },
        {
          "output_type": "display_data",
          "data": {
            "text/plain": [
              "VBox(children=(IntSlider(value=0, description='Eraser X', max=380, step=5), IntSlider(value=0, description='Er…"
            ],
            "application/vnd.jupyter.widget-view+json": {
              "version_major": 2,
              "version_minor": 0,
              "model_id": "d4d5f131e3bf4a7bb8b55f08d0e09896"
            }
          },
          "metadata": {}
        },
        {
          "output_type": "display_data",
          "data": {
            "text/plain": [
              "Output()"
            ],
            "application/vnd.jupyter.widget-view+json": {
              "version_major": 2,
              "version_minor": 0,
              "model_id": "06632272f1a54b7b92b8c838953eb504"
            }
          },
          "metadata": {}
        }
      ]
    },
    {
      "cell_type": "code",
      "source": [
        "print(\"04_flowing_with_data_structures\")\n",
        "\n",
        "def add_three_copies(my_list, data):\n",
        "  for i in range(3):\n",
        "    my_list.append(data)\n",
        "\n",
        "def main():\n",
        "  message = input(\"Enter a message to copy: \")\n",
        "  my_list = []\n",
        "  print(\"List before: \", my_list)\n",
        "  add_three_copies(my_list, message)\n",
        "  print(\"List after: \", my_list)\n",
        "\n",
        "if __name__==\"__main__\":\n",
        "  main()\n",
        "\n",
        "\n"
      ],
      "metadata": {
        "colab": {
          "base_uri": "https://localhost:8080/"
        },
        "id": "BJ0zxL5tN9oo",
        "outputId": "bde46715-ef2a-45ba-ada0-65bf72ccc407"
      },
      "execution_count": 6,
      "outputs": [
        {
          "output_type": "stream",
          "name": "stdout",
          "text": [
            "04_flowing_with_data_structures\n",
            "Enter a message to copy: Hello World!\n",
            "List before:  []\n",
            "List after:  ['Hello World!', 'Hello World!', 'Hello World!']\n"
          ]
        }
      ]
    },
    {
      "cell_type": "code",
      "source": [
        "print(\"05_get_first_element\")\n",
        "\n",
        "def get_first_element(lst):\n",
        "  print(lst[0])\n",
        "\n",
        "def get_lst():\n",
        "  lst = []\n",
        "  elem: str = input(\"Enter an element to add to the list: \")\n",
        "  while elem != \"\":\n",
        "     lst.append(elem)\n",
        "     elem = input(\"Enter an element to add to the list: \")\n",
        "  return lst\n",
        "\n",
        "def main():\n",
        "  lst = get_lst()\n",
        "  get_first_element(lst)\n",
        "\n",
        "if __name__ == \"__main__\":\n",
        "  main()"
      ],
      "metadata": {
        "colab": {
          "base_uri": "https://localhost:8080/"
        },
        "id": "dYSQw7P_RahY",
        "outputId": "bdcd660d-8056-4665-bf39-874d98b87533"
      },
      "execution_count": 13,
      "outputs": [
        {
          "output_type": "stream",
          "name": "stdout",
          "text": [
            "05_get_first_element\n",
            "Enter an element to add to the list: a\n",
            "Enter an element to add to the list: b\n",
            "Enter an element to add to the list: c\n",
            "Enter an element to add to the list: d\n",
            "Enter an element to add to the list: e\n",
            "Enter an element to add to the list: f\n",
            "Enter an element to add to the list: g\n",
            "Enter an element to add to the list: \n",
            "a\n"
          ]
        }
      ]
    },
    {
      "cell_type": "code",
      "source": [
        "print(\"06_get_last_element\")\n",
        "\n",
        "def get_last_element(lst):\n",
        "  print(lst[-1])\n",
        "\n",
        "def get_lst():\n",
        "  lst = []\n",
        "  elem: str = input(\"Enter an element to add to the list: \")\n",
        "  while elem != \"\":\n",
        "     lst.append(elem)\n",
        "     elem = input(\"Enter an element to add to the list: \")\n",
        "  return lst\n",
        "\n",
        "def main():\n",
        "  lst = get_lst()\n",
        "  get_last_element(lst)\n",
        "\n",
        "if __name__==\"__main__\":\n",
        "  main()\n",
        "\n",
        "\n",
        "\n"
      ],
      "metadata": {
        "colab": {
          "base_uri": "https://localhost:8080/"
        },
        "id": "7nuC0HqVX_sS",
        "outputId": "73350136-2379-4bf5-9009-5ab0def15382"
      },
      "execution_count": 15,
      "outputs": [
        {
          "output_type": "stream",
          "name": "stdout",
          "text": [
            "06_get_last_element\n",
            "Enter an element to add to the list: h\n",
            "Enter an element to add to the list: j\n",
            "Enter an element to add to the list: k\n",
            "Enter an element to add to the list: l\n",
            "Enter an element to add to the list: \n",
            "l\n"
          ]
        }
      ]
    },
    {
      "cell_type": "code",
      "source": [
        "print(\"07_get_list\")\n",
        "\n",
        "def main():\n",
        "  lst = []\n",
        "  val = input(\"Enter a value to add to the list: \")\n",
        "  while val:\n",
        "    lst.append(val)\n",
        "    val = input(\"Enter a value to add to the list: \")\n",
        "  print(\"Here is the list: \", lst)\n",
        "if __name__==\"__main__\":\n",
        "  main()\n",
        "\n",
        ""
      ],
      "metadata": {
        "colab": {
          "base_uri": "https://localhost:8080/"
        },
        "id": "gcqUEzQefS0h",
        "outputId": "f499a8b3-9fcd-4f95-b22a-648ed980592c"
      },
      "execution_count": 19,
      "outputs": [
        {
          "output_type": "stream",
          "name": "stdout",
          "text": [
            "07_get_list\n",
            "Enter a value to add to the list: ali\n",
            "Enter a value to add to the list: zara\n",
            "Enter a value to add to the list: rabia\n",
            "Enter a value to add to the list: zubair\n",
            "Enter a value to add to the list: hira\n",
            "Enter a value to add to the list: rameez\n",
            "Enter a value to add to the list: \n",
            "Here is the list:  ['ali', 'zara', 'rabia', 'zubair', 'hira', 'rameez']\n"
          ]
        }
      ]
    },
    {
      "cell_type": "code",
      "source": [
        "print(\"08_shorten\")\n",
        "\n",
        "MAX_LENGTH: int = 3\n",
        "\n",
        "def shorten(lst):\n",
        "  while len(lst) > MAX_LENGTH:\n",
        "    last_element = lst.pop()\n",
        "    print(last_element)\n",
        "\n",
        "def get_lst():\n",
        "  lst = []\n",
        "  element = input(\"Enter an element to add to the list: \")\n",
        "  while element != \"\":\n",
        "    lst.append(element)\n",
        "    element = input(\"Enter an element to add to the list: \")\n",
        "  return lst\n",
        "\n",
        "def main():\n",
        "  lst = get_lst()\n",
        "  shorten(lst)\n",
        "\n",
        "if __name__==\"__main__\":\n",
        "  main()\n",
        "\n",
        "\n"
      ],
      "metadata": {
        "colab": {
          "base_uri": "https://localhost:8080/"
        },
        "id": "euuVEcF-hpBk",
        "outputId": "9bb78116-9821-45a6-8268-87445e8b5ea6"
      },
      "execution_count": 23,
      "outputs": [
        {
          "output_type": "stream",
          "name": "stdout",
          "text": [
            "08_shorten\n",
            "Enter an element to add to the list: pink\n",
            "Enter an element to add to the list: purple\n",
            "Enter an element to add to the list: grey\n",
            "Enter an element to add to the list: white\n",
            "Enter an element to add to the list: black\n",
            "Enter an element to add to the list: orange\n",
            "Enter an element to add to the list: red\n",
            "Enter an element to add to the list: \n",
            "red\n",
            "orange\n",
            "black\n",
            "white\n"
          ]
        }
      ]
    }
  ]
}