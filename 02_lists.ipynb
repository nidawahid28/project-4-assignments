{
  "nbformat": 4,
  "nbformat_minor": 0,
  "metadata": {
    "colab": {
      "provenance": [],
      "authorship_tag": "ABX9TyPOs6CdToyP8281I/btMPV4",
      "include_colab_link": true
    },
    "kernelspec": {
      "name": "python3",
      "display_name": "Python 3"
    },
    "language_info": {
      "name": "python"
    },
    "widgets": {
      "application/vnd.jupyter.widget-state+json": {
        "25a5ed0561d74813a11aadc8e3b12068": {
          "model_module": "@jupyter-widgets/controls",
          "model_name": "VBoxModel",
          "model_module_version": "1.5.0",
          "state": {
            "_dom_classes": [],
            "_model_module": "@jupyter-widgets/controls",
            "_model_module_version": "1.5.0",
            "_model_name": "VBoxModel",
            "_view_count": null,
            "_view_module": "@jupyter-widgets/controls",
            "_view_module_version": "1.5.0",
            "_view_name": "VBoxView",
            "box_style": "",
            "children": [
              "IPY_MODEL_b36bab1cc93341c0a838c360a2469140",
              "IPY_MODEL_cde5be4433ae494da618a4f4faadaed8"
            ],
            "layout": "IPY_MODEL_8d2583b8367b4ec0b33247218ede4998"
          }
        },
        "b36bab1cc93341c0a838c360a2469140": {
          "model_module": "@jupyter-widgets/controls",
          "model_name": "IntSliderModel",
          "model_module_version": "1.5.0",
          "state": {
            "_dom_classes": [],
            "_model_module": "@jupyter-widgets/controls",
            "_model_module_version": "1.5.0",
            "_model_name": "IntSliderModel",
            "_view_count": null,
            "_view_module": "@jupyter-widgets/controls",
            "_view_module_version": "1.5.0",
            "_view_name": "IntSliderView",
            "continuous_update": true,
            "description": "Eraser X",
            "description_tooltip": null,
            "disabled": false,
            "layout": "IPY_MODEL_f73c430c481143b086f358a2b649368e",
            "max": 380,
            "min": 0,
            "orientation": "horizontal",
            "readout": true,
            "readout_format": "d",
            "step": 5,
            "style": "IPY_MODEL_606dac8edb8c4f699abe85b2ad976955",
            "value": 65
          }
        },
        "cde5be4433ae494da618a4f4faadaed8": {
          "model_module": "@jupyter-widgets/controls",
          "model_name": "IntSliderModel",
          "model_module_version": "1.5.0",
          "state": {
            "_dom_classes": [],
            "_model_module": "@jupyter-widgets/controls",
            "_model_module_version": "1.5.0",
            "_model_name": "IntSliderModel",
            "_view_count": null,
            "_view_module": "@jupyter-widgets/controls",
            "_view_module_version": "1.5.0",
            "_view_name": "IntSliderView",
            "continuous_update": true,
            "description": "Eraser Y",
            "description_tooltip": null,
            "disabled": false,
            "layout": "IPY_MODEL_c7e88e48fa034741bb8d8eb4c149c1f6",
            "max": 380,
            "min": 0,
            "orientation": "horizontal",
            "readout": true,
            "readout_format": "d",
            "step": 5,
            "style": "IPY_MODEL_a968d290402246028ce5ba971657b031",
            "value": 75
          }
        },
        "8d2583b8367b4ec0b33247218ede4998": {
          "model_module": "@jupyter-widgets/base",
          "model_name": "LayoutModel",
          "model_module_version": "1.2.0",
          "state": {
            "_model_module": "@jupyter-widgets/base",
            "_model_module_version": "1.2.0",
            "_model_name": "LayoutModel",
            "_view_count": null,
            "_view_module": "@jupyter-widgets/base",
            "_view_module_version": "1.2.0",
            "_view_name": "LayoutView",
            "align_content": null,
            "align_items": null,
            "align_self": null,
            "border": null,
            "bottom": null,
            "display": null,
            "flex": null,
            "flex_flow": null,
            "grid_area": null,
            "grid_auto_columns": null,
            "grid_auto_flow": null,
            "grid_auto_rows": null,
            "grid_column": null,
            "grid_gap": null,
            "grid_row": null,
            "grid_template_areas": null,
            "grid_template_columns": null,
            "grid_template_rows": null,
            "height": null,
            "justify_content": null,
            "justify_items": null,
            "left": null,
            "margin": null,
            "max_height": null,
            "max_width": null,
            "min_height": null,
            "min_width": null,
            "object_fit": null,
            "object_position": null,
            "order": null,
            "overflow": null,
            "overflow_x": null,
            "overflow_y": null,
            "padding": null,
            "right": null,
            "top": null,
            "visibility": null,
            "width": null
          }
        },
        "f73c430c481143b086f358a2b649368e": {
          "model_module": "@jupyter-widgets/base",
          "model_name": "LayoutModel",
          "model_module_version": "1.2.0",
          "state": {
            "_model_module": "@jupyter-widgets/base",
            "_model_module_version": "1.2.0",
            "_model_name": "LayoutModel",
            "_view_count": null,
            "_view_module": "@jupyter-widgets/base",
            "_view_module_version": "1.2.0",
            "_view_name": "LayoutView",
            "align_content": null,
            "align_items": null,
            "align_self": null,
            "border": null,
            "bottom": null,
            "display": null,
            "flex": null,
            "flex_flow": null,
            "grid_area": null,
            "grid_auto_columns": null,
            "grid_auto_flow": null,
            "grid_auto_rows": null,
            "grid_column": null,
            "grid_gap": null,
            "grid_row": null,
            "grid_template_areas": null,
            "grid_template_columns": null,
            "grid_template_rows": null,
            "height": null,
            "justify_content": null,
            "justify_items": null,
            "left": null,
            "margin": null,
            "max_height": null,
            "max_width": null,
            "min_height": null,
            "min_width": null,
            "object_fit": null,
            "object_position": null,
            "order": null,
            "overflow": null,
            "overflow_x": null,
            "overflow_y": null,
            "padding": null,
            "right": null,
            "top": null,
            "visibility": null,
            "width": null
          }
        },
        "606dac8edb8c4f699abe85b2ad976955": {
          "model_module": "@jupyter-widgets/controls",
          "model_name": "SliderStyleModel",
          "model_module_version": "1.5.0",
          "state": {
            "_model_module": "@jupyter-widgets/controls",
            "_model_module_version": "1.5.0",
            "_model_name": "SliderStyleModel",
            "_view_count": null,
            "_view_module": "@jupyter-widgets/base",
            "_view_module_version": "1.2.0",
            "_view_name": "StyleView",
            "description_width": "",
            "handle_color": null
          }
        },
        "c7e88e48fa034741bb8d8eb4c149c1f6": {
          "model_module": "@jupyter-widgets/base",
          "model_name": "LayoutModel",
          "model_module_version": "1.2.0",
          "state": {
            "_model_module": "@jupyter-widgets/base",
            "_model_module_version": "1.2.0",
            "_model_name": "LayoutModel",
            "_view_count": null,
            "_view_module": "@jupyter-widgets/base",
            "_view_module_version": "1.2.0",
            "_view_name": "LayoutView",
            "align_content": null,
            "align_items": null,
            "align_self": null,
            "border": null,
            "bottom": null,
            "display": null,
            "flex": null,
            "flex_flow": null,
            "grid_area": null,
            "grid_auto_columns": null,
            "grid_auto_flow": null,
            "grid_auto_rows": null,
            "grid_column": null,
            "grid_gap": null,
            "grid_row": null,
            "grid_template_areas": null,
            "grid_template_columns": null,
            "grid_template_rows": null,
            "height": null,
            "justify_content": null,
            "justify_items": null,
            "left": null,
            "margin": null,
            "max_height": null,
            "max_width": null,
            "min_height": null,
            "min_width": null,
            "object_fit": null,
            "object_position": null,
            "order": null,
            "overflow": null,
            "overflow_x": null,
            "overflow_y": null,
            "padding": null,
            "right": null,
            "top": null,
            "visibility": null,
            "width": null
          }
        },
        "a968d290402246028ce5ba971657b031": {
          "model_module": "@jupyter-widgets/controls",
          "model_name": "SliderStyleModel",
          "model_module_version": "1.5.0",
          "state": {
            "_model_module": "@jupyter-widgets/controls",
            "_model_module_version": "1.5.0",
            "_model_name": "SliderStyleModel",
            "_view_count": null,
            "_view_module": "@jupyter-widgets/base",
            "_view_module_version": "1.2.0",
            "_view_name": "StyleView",
            "description_width": "",
            "handle_color": null
          }
        },
        "a1dab7f573ad4c7ead00faa41fd088fb": {
          "model_module": "@jupyter-widgets/output",
          "model_name": "OutputModel",
          "model_module_version": "1.0.0",
          "state": {
            "_dom_classes": [],
            "_model_module": "@jupyter-widgets/output",
            "_model_module_version": "1.0.0",
            "_model_name": "OutputModel",
            "_view_count": null,
            "_view_module": "@jupyter-widgets/output",
            "_view_module_version": "1.0.0",
            "_view_name": "OutputView",
            "layout": "IPY_MODEL_9b67cd4540304761905fc090026c5a73",
            "msg_id": "",
            "outputs": [
              {
                "output_type": "display_data",
                "data": {
                  "text/plain": "<Figure size 600x600 with 1 Axes>",
                  "image/png": "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\n"
                },
                "metadata": {}
              }
            ]
          }
        },
        "9b67cd4540304761905fc090026c5a73": {
          "model_module": "@jupyter-widgets/base",
          "model_name": "LayoutModel",
          "model_module_version": "1.2.0",
          "state": {
            "_model_module": "@jupyter-widgets/base",
            "_model_module_version": "1.2.0",
            "_model_name": "LayoutModel",
            "_view_count": null,
            "_view_module": "@jupyter-widgets/base",
            "_view_module_version": "1.2.0",
            "_view_name": "LayoutView",
            "align_content": null,
            "align_items": null,
            "align_self": null,
            "border": null,
            "bottom": null,
            "display": null,
            "flex": null,
            "flex_flow": null,
            "grid_area": null,
            "grid_auto_columns": null,
            "grid_auto_flow": null,
            "grid_auto_rows": null,
            "grid_column": null,
            "grid_gap": null,
            "grid_row": null,
            "grid_template_areas": null,
            "grid_template_columns": null,
            "grid_template_rows": null,
            "height": null,
            "justify_content": null,
            "justify_items": null,
            "left": null,
            "margin": null,
            "max_height": null,
            "max_width": null,
            "min_height": null,
            "min_width": null,
            "object_fit": null,
            "object_position": null,
            "order": null,
            "overflow": null,
            "overflow_x": null,
            "overflow_y": null,
            "padding": null,
            "right": null,
            "top": null,
            "visibility": null,
            "width": null
          }
        }
      }
    }
  },
  "cells": [
    {
      "cell_type": "markdown",
      "metadata": {
        "id": "view-in-github",
        "colab_type": "text"
      },
      "source": [
        "<a href=\"https://colab.research.google.com/github/nidawahid28/project-4-assignments/blob/main/02_lists.ipynb\" target=\"_parent\"><img src=\"https://colab.research.google.com/assets/colab-badge.svg\" alt=\"Open In Colab\"/></a>"
      ]
    },
    {
      "cell_type": "code",
      "execution_count": null,
      "metadata": {
        "colab": {
          "base_uri": "https://localhost:8080/"
        },
        "id": "IppG74d43XOg",
        "outputId": "a60d5167-97af-4e3a-d159-1e8f3e5ea848"
      },
      "outputs": [
        {
          "output_type": "stream",
          "name": "stdout",
          "text": [
            "01_add_many_number\n",
            "15\n"
          ]
        }
      ],
      "source": [
        "print(\"01_add_many_number\")\n",
        "\n",
        "def add_number(numbers)->int:\n",
        "  num:int = 0\n",
        "  for i in numbers:\n",
        "    num += i\n",
        "  return num\n",
        "\n",
        "def main():\n",
        "  numbers: list[int] = [1, 2, 3, 4, 5]\n",
        "  sum = add_number(numbers)\n",
        "  print(sum)\n",
        "\n",
        "if __name__==\"__main__\":\n",
        "  main()\n"
      ]
    },
    {
      "cell_type": "code",
      "source": [
        "print(\"02_double_list\")\n",
        "\n",
        "def main():\n",
        "  numbers: list[int] = [1, 2, 3, 4, 5]\n",
        "  for i in range(len(numbers)):\n",
        "    index = numbers[i]\n",
        "    numbers[i] = index * 2\n",
        "  print(numbers)\n",
        "\n",
        "if __name__==\"__main__\":\n",
        "  main()\n",
        "\n"
      ],
      "metadata": {
        "colab": {
          "base_uri": "https://localhost:8080/"
        },
        "id": "98cZFwGcTPoM",
        "outputId": "e3f58ad6-3ede-412c-e357-2ff13efa7512"
      },
      "execution_count": null,
      "outputs": [
        {
          "output_type": "stream",
          "name": "stdout",
          "text": [
            "02_double_list\n",
            "[2, 4, 6, 8, 10]\n"
          ]
        }
      ]
    },
    {
      "cell_type": "code",
      "source": [
        "import numpy as np\n",
        "import matplotlib.pyplot as plt\n",
        "from matplotlib.patches import Rectangle\n",
        "import ipywidgets as widgets\n",
        "from IPython.display import display, clear_output\n",
        "\n",
        "print(\"03_erase_canvas\")\n",
        "\n",
        "# === Canvas Configuration ===\n",
        "CANVAS_WIDTH = 400      # Width of canvas\n",
        "CANVAS_HEIGHT = 400     # Height of canvas\n",
        "CELL_SIZE = 40          # Size of each cell\n",
        "ERASER_SIZE = 20        # Size of eraser\n",
        "\n",
        "# Calculate number of cells\n",
        "num_rows = CANVAS_HEIGHT // CELL_SIZE\n",
        "num_cols = CANVAS_WIDTH // CELL_SIZE\n",
        "\n",
        "# Track erased cells\n",
        "erased_cells = set()\n",
        "\n",
        "# === Function to draw canvas with eraser ===\n",
        "def draw_canvas(x=0, y=0):\n",
        "    clear_output(wait=True)  # Clear old canvas\n",
        "\n",
        "    # Create the canvas\n",
        "    fig, ax = plt.subplots(figsize=(6, 6))\n",
        "    ax.set_xlim(0, CANVAS_WIDTH)\n",
        "    ax.set_ylim(0, CANVAS_HEIGHT)\n",
        "    ax.set_aspect('equal')\n",
        "    plt.gca().invert_yaxis()  # Flip y-axis\n",
        "    plt.axis('off')           # Hide borders\n",
        "\n",
        "    # Draw each cell\n",
        "    for row in range(num_rows):\n",
        "        for col in range(num_cols):\n",
        "            left = col * CELL_SIZE\n",
        "            top = row * CELL_SIZE\n",
        "            cell_id = (row, col)\n",
        "\n",
        "            # Check if eraser overlaps this cell\n",
        "            if (\n",
        "                x < left + CELL_SIZE and x + ERASER_SIZE > left and\n",
        "                y < top + CELL_SIZE and y + ERASER_SIZE > top\n",
        "            ):\n",
        "                erased_cells.add(cell_id)\n",
        "\n",
        "            # Set color\n",
        "            color = 'white' if cell_id in erased_cells else 'blue'\n",
        "            rect = Rectangle((left, top), CELL_SIZE, CELL_SIZE, color=color)\n",
        "            ax.add_patch(rect)\n",
        "\n",
        "    # Draw the eraser\n",
        "    eraser = Rectangle((x, y), ERASER_SIZE, ERASER_SIZE, color='pink')\n",
        "    ax.add_patch(eraser)\n",
        "    plt.show()\n",
        "\n",
        "# === Sliders for eraser movement ===\n",
        "x_slider = widgets.IntSlider(min=0, max=CANVAS_WIDTH - ERASER_SIZE, step=5, description='Eraser X')\n",
        "y_slider = widgets.IntSlider(min=0, max=CANVAS_HEIGHT - ERASER_SIZE, step=5, description='Eraser Y')\n",
        "\n",
        "# Connect sliders to draw function\n",
        "ui = widgets.VBox([x_slider, y_slider])\n",
        "out = widgets.interactive_output(draw_canvas, {'x': x_slider, 'y': y_slider})\n",
        "\n",
        "# Display UI and canvas\n",
        "display(ui, out)\n",
        "\n",
        "\n"
      ],
      "metadata": {
        "colab": {
          "base_uri": "https://localhost:8080/",
          "height": 580,
          "referenced_widgets": [
            "25a5ed0561d74813a11aadc8e3b12068",
            "b36bab1cc93341c0a838c360a2469140",
            "cde5be4433ae494da618a4f4faadaed8",
            "8d2583b8367b4ec0b33247218ede4998",
            "f73c430c481143b086f358a2b649368e",
            "606dac8edb8c4f699abe85b2ad976955",
            "c7e88e48fa034741bb8d8eb4c149c1f6",
            "a968d290402246028ce5ba971657b031",
            "a1dab7f573ad4c7ead00faa41fd088fb",
            "9b67cd4540304761905fc090026c5a73"
          ]
        },
        "id": "oAo6mKgWDoEF",
        "outputId": "d0cf384f-c496-4e52-df07-5202d372ca6e"
      },
      "execution_count": 26,
      "outputs": [
        {
          "output_type": "stream",
          "name": "stdout",
          "text": [
            "03_erase_canvas\n"
          ]
        },
        {
          "output_type": "display_data",
          "data": {
            "text/plain": [
              "VBox(children=(IntSlider(value=0, description='Eraser X', max=380, step=5), IntSlider(value=0, description='Er…"
            ],
            "application/vnd.jupyter.widget-view+json": {
              "version_major": 2,
              "version_minor": 0,
              "model_id": "25a5ed0561d74813a11aadc8e3b12068"
            }
          },
          "metadata": {}
        },
        {
          "output_type": "display_data",
          "data": {
            "text/plain": [
              "Output()"
            ],
            "application/vnd.jupyter.widget-view+json": {
              "version_major": 2,
              "version_minor": 0,
              "model_id": "a1dab7f573ad4c7ead00faa41fd088fb"
            }
          },
          "metadata": {}
        }
      ]
    },
    {
      "cell_type": "code",
      "source": [
        "print(\"04_flowing_with_data_structures\")\n",
        "\n",
        "def add_three_copies(my_list, data):\n",
        "  for i in range(3):\n",
        "    my_list.append(data)\n",
        "\n",
        "def main():\n",
        "  message = input(\"Enter a message to copy: \")\n",
        "  my_list = []\n",
        "  print(\"List before: \", my_list)\n",
        "  add_three_copies(my_list, message)\n",
        "  print(\"List after: \", my_list)\n",
        "\n",
        "if __name__==\"__main__\":\n",
        "  main()\n",
        "\n",
        "\n"
      ],
      "metadata": {
        "colab": {
          "base_uri": "https://localhost:8080/"
        },
        "id": "BJ0zxL5tN9oo",
        "outputId": "bde46715-ef2a-45ba-ada0-65bf72ccc407"
      },
      "execution_count": 6,
      "outputs": [
        {
          "output_type": "stream",
          "name": "stdout",
          "text": [
            "04_flowing_with_data_structures\n",
            "Enter a message to copy: Hello World!\n",
            "List before:  []\n",
            "List after:  ['Hello World!', 'Hello World!', 'Hello World!']\n"
          ]
        }
      ]
    },
    {
      "cell_type": "code",
      "source": [
        "print(\"05_get_first_element\")\n",
        "\n",
        "def get_first_element(lst):\n",
        "  print(lst[0])\n",
        "\n",
        "def get_lst():\n",
        "  lst = []\n",
        "  elem: str = input(\"Enter an element to add to the list: \")\n",
        "  while elem != \"\":\n",
        "     lst.append(elem)\n",
        "     elem = input(\"Enter an element to add to the list: \")\n",
        "  return lst\n",
        "\n",
        "def main():\n",
        "  lst = get_lst()\n",
        "  get_first_element(lst)\n",
        "\n",
        "if __name__ == \"__main__\":\n",
        "  main()"
      ],
      "metadata": {
        "colab": {
          "base_uri": "https://localhost:8080/"
        },
        "id": "dYSQw7P_RahY",
        "outputId": "bdcd660d-8056-4665-bf39-874d98b87533"
      },
      "execution_count": 13,
      "outputs": [
        {
          "output_type": "stream",
          "name": "stdout",
          "text": [
            "05_get_first_element\n",
            "Enter an element to add to the list: a\n",
            "Enter an element to add to the list: b\n",
            "Enter an element to add to the list: c\n",
            "Enter an element to add to the list: d\n",
            "Enter an element to add to the list: e\n",
            "Enter an element to add to the list: f\n",
            "Enter an element to add to the list: g\n",
            "Enter an element to add to the list: \n",
            "a\n"
          ]
        }
      ]
    },
    {
      "cell_type": "code",
      "source": [
        "print(\"06_get_last_element\")\n",
        "\n",
        "def get_last_element(lst):\n",
        "  print(lst[-1])\n",
        "\n",
        "def get_lst():\n",
        "  lst = []\n",
        "  elem: str = input(\"Enter an element to add to the list: \")\n",
        "  while elem != \"\":\n",
        "     lst.append(elem)\n",
        "     elem = input(\"Enter an element to add to the list: \")\n",
        "  return lst\n",
        "\n",
        "def main():\n",
        "  lst = get_lst()\n",
        "  get_last_element(lst)\n",
        "\n",
        "if __name__==\"__main__\":\n",
        "  main()\n",
        "\n",
        "\n",
        "\n"
      ],
      "metadata": {
        "colab": {
          "base_uri": "https://localhost:8080/"
        },
        "id": "7nuC0HqVX_sS",
        "outputId": "73350136-2379-4bf5-9009-5ab0def15382"
      },
      "execution_count": 15,
      "outputs": [
        {
          "output_type": "stream",
          "name": "stdout",
          "text": [
            "06_get_last_element\n",
            "Enter an element to add to the list: h\n",
            "Enter an element to add to the list: j\n",
            "Enter an element to add to the list: k\n",
            "Enter an element to add to the list: l\n",
            "Enter an element to add to the list: \n",
            "l\n"
          ]
        }
      ]
    },
    {
      "cell_type": "code",
      "source": [
        "print(\"07_get_list\")\n",
        "\n",
        "def main():\n",
        "  lst = []\n",
        "  val = input(\"Enter a value to add to the list: \")\n",
        "  while val:\n",
        "    lst.append(val)\n",
        "    val = input(\"Enter a value to add to the list: \")\n",
        "  print(\"Here is the list: \", lst)\n",
        "if __name__==\"__main__\":\n",
        "  main()\n",
        "\n",
        ""
      ],
      "metadata": {
        "colab": {
          "base_uri": "https://localhost:8080/"
        },
        "id": "gcqUEzQefS0h",
        "outputId": "f499a8b3-9fcd-4f95-b22a-648ed980592c"
      },
      "execution_count": 19,
      "outputs": [
        {
          "output_type": "stream",
          "name": "stdout",
          "text": [
            "07_get_list\n",
            "Enter a value to add to the list: ali\n",
            "Enter a value to add to the list: zara\n",
            "Enter a value to add to the list: rabia\n",
            "Enter a value to add to the list: zubair\n",
            "Enter a value to add to the list: hira\n",
            "Enter a value to add to the list: rameez\n",
            "Enter a value to add to the list: \n",
            "Here is the list:  ['ali', 'zara', 'rabia', 'zubair', 'hira', 'rameez']\n"
          ]
        }
      ]
    },
    {
      "cell_type": "code",
      "source": [
        "print(\"08_shorten\")\n",
        "\n",
        "MAX_LENGTH: int = 3\n",
        "\n",
        "def shorten(lst):\n",
        "  while len(lst) > MAX_LENGTH:\n",
        "    last_element = lst.pop()\n",
        "    print(last_element)\n",
        "\n",
        "def get_lst():\n",
        "  lst = []\n",
        "  element = input(\"Enter an element to add to the list: \")\n",
        "  while element != \"\":\n",
        "    lst.append(element)\n",
        "    element = input(\"Enter an element to add to the list: \")\n",
        "  return lst\n",
        "\n",
        "def main():\n",
        "  lst = get_lst()\n",
        "  shorten(lst)\n",
        "\n",
        "if __name__==\"__main__\":\n",
        "  main()\n",
        "\n",
        "\n"
      ],
      "metadata": {
        "colab": {
          "base_uri": "https://localhost:8080/"
        },
        "id": "euuVEcF-hpBk",
        "outputId": "9bb78116-9821-45a6-8268-87445e8b5ea6"
      },
      "execution_count": 23,
      "outputs": [
        {
          "output_type": "stream",
          "name": "stdout",
          "text": [
            "08_shorten\n",
            "Enter an element to add to the list: pink\n",
            "Enter an element to add to the list: purple\n",
            "Enter an element to add to the list: grey\n",
            "Enter an element to add to the list: white\n",
            "Enter an element to add to the list: black\n",
            "Enter an element to add to the list: orange\n",
            "Enter an element to add to the list: red\n",
            "Enter an element to add to the list: \n",
            "red\n",
            "orange\n",
            "black\n",
            "white\n"
          ]
        }
      ]
    }
  ]
}