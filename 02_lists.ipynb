{
  "nbformat": 4,
  "nbformat_minor": 0,
  "metadata": {
    "colab": {
      "provenance": [],
      "authorship_tag": "ABX9TyMcYk6VMaUCGzMezWF4m5wV",
      "include_colab_link": true
    },
    "kernelspec": {
      "name": "python3",
      "display_name": "Python 3"
    },
    "language_info": {
      "name": "python"
    },
    "widgets": {
      "application/vnd.jupyter.widget-state+json": {
        "51c98f9515424ccbb950bd4a82c0160b": {
          "model_module": "@jupyter-widgets/controls",
          "model_name": "VBoxModel",
          "model_module_version": "1.5.0",
          "state": {
            "_dom_classes": [],
            "_model_module": "@jupyter-widgets/controls",
            "_model_module_version": "1.5.0",
            "_model_name": "VBoxModel",
            "_view_count": null,
            "_view_module": "@jupyter-widgets/controls",
            "_view_module_version": "1.5.0",
            "_view_name": "VBoxView",
            "box_style": "",
            "children": [
              "IPY_MODEL_e4918ef1e1ee43228e2e20a4d3474345",
              "IPY_MODEL_34b7e255e53a4526a34a8554004d5122"
            ],
            "layout": "IPY_MODEL_6ef8e6351a514d91b02bbfff4e0a9a95"
          }
        },
        "e4918ef1e1ee43228e2e20a4d3474345": {
          "model_module": "@jupyter-widgets/controls",
          "model_name": "IntSliderModel",
          "model_module_version": "1.5.0",
          "state": {
            "_dom_classes": [],
            "_model_module": "@jupyter-widgets/controls",
            "_model_module_version": "1.5.0",
            "_model_name": "IntSliderModel",
            "_view_count": null,
            "_view_module": "@jupyter-widgets/controls",
            "_view_module_version": "1.5.0",
            "_view_name": "IntSliderView",
            "continuous_update": true,
            "description": "Eraser X",
            "description_tooltip": null,
            "disabled": false,
            "layout": "IPY_MODEL_9db86d3c54844b688c2a7a013b1eddd3",
            "max": 380,
            "min": 0,
            "orientation": "horizontal",
            "readout": true,
            "readout_format": "d",
            "step": 5,
            "style": "IPY_MODEL_e19a22d64b704d48b586d91347f96b1e",
            "value": 60
          }
        },
        "34b7e255e53a4526a34a8554004d5122": {
          "model_module": "@jupyter-widgets/controls",
          "model_name": "IntSliderModel",
          "model_module_version": "1.5.0",
          "state": {
            "_dom_classes": [],
            "_model_module": "@jupyter-widgets/controls",
            "_model_module_version": "1.5.0",
            "_model_name": "IntSliderModel",
            "_view_count": null,
            "_view_module": "@jupyter-widgets/controls",
            "_view_module_version": "1.5.0",
            "_view_name": "IntSliderView",
            "continuous_update": true,
            "description": "Eraser Y",
            "description_tooltip": null,
            "disabled": false,
            "layout": "IPY_MODEL_89fb813915bb416799a5321b341b0a0a",
            "max": 380,
            "min": 0,
            "orientation": "horizontal",
            "readout": true,
            "readout_format": "d",
            "step": 5,
            "style": "IPY_MODEL_84137c5db2744168a3fa07bba47b2760",
            "value": 145
          }
        },
        "6ef8e6351a514d91b02bbfff4e0a9a95": {
          "model_module": "@jupyter-widgets/base",
          "model_name": "LayoutModel",
          "model_module_version": "1.2.0",
          "state": {
            "_model_module": "@jupyter-widgets/base",
            "_model_module_version": "1.2.0",
            "_model_name": "LayoutModel",
            "_view_count": null,
            "_view_module": "@jupyter-widgets/base",
            "_view_module_version": "1.2.0",
            "_view_name": "LayoutView",
            "align_content": null,
            "align_items": null,
            "align_self": null,
            "border": null,
            "bottom": null,
            "display": null,
            "flex": null,
            "flex_flow": null,
            "grid_area": null,
            "grid_auto_columns": null,
            "grid_auto_flow": null,
            "grid_auto_rows": null,
            "grid_column": null,
            "grid_gap": null,
            "grid_row": null,
            "grid_template_areas": null,
            "grid_template_columns": null,
            "grid_template_rows": null,
            "height": null,
            "justify_content": null,
            "justify_items": null,
            "left": null,
            "margin": null,
            "max_height": null,
            "max_width": null,
            "min_height": null,
            "min_width": null,
            "object_fit": null,
            "object_position": null,
            "order": null,
            "overflow": null,
            "overflow_x": null,
            "overflow_y": null,
            "padding": null,
            "right": null,
            "top": null,
            "visibility": null,
            "width": null
          }
        },
        "9db86d3c54844b688c2a7a013b1eddd3": {
          "model_module": "@jupyter-widgets/base",
          "model_name": "LayoutModel",
          "model_module_version": "1.2.0",
          "state": {
            "_model_module": "@jupyter-widgets/base",
            "_model_module_version": "1.2.0",
            "_model_name": "LayoutModel",
            "_view_count": null,
            "_view_module": "@jupyter-widgets/base",
            "_view_module_version": "1.2.0",
            "_view_name": "LayoutView",
            "align_content": null,
            "align_items": null,
            "align_self": null,
            "border": null,
            "bottom": null,
            "display": null,
            "flex": null,
            "flex_flow": null,
            "grid_area": null,
            "grid_auto_columns": null,
            "grid_auto_flow": null,
            "grid_auto_rows": null,
            "grid_column": null,
            "grid_gap": null,
            "grid_row": null,
            "grid_template_areas": null,
            "grid_template_columns": null,
            "grid_template_rows": null,
            "height": null,
            "justify_content": null,
            "justify_items": null,
            "left": null,
            "margin": null,
            "max_height": null,
            "max_width": null,
            "min_height": null,
            "min_width": null,
            "object_fit": null,
            "object_position": null,
            "order": null,
            "overflow": null,
            "overflow_x": null,
            "overflow_y": null,
            "padding": null,
            "right": null,
            "top": null,
            "visibility": null,
            "width": null
          }
        },
        "e19a22d64b704d48b586d91347f96b1e": {
          "model_module": "@jupyter-widgets/controls",
          "model_name": "SliderStyleModel",
          "model_module_version": "1.5.0",
          "state": {
            "_model_module": "@jupyter-widgets/controls",
            "_model_module_version": "1.5.0",
            "_model_name": "SliderStyleModel",
            "_view_count": null,
            "_view_module": "@jupyter-widgets/base",
            "_view_module_version": "1.2.0",
            "_view_name": "StyleView",
            "description_width": "",
            "handle_color": null
          }
        },
        "89fb813915bb416799a5321b341b0a0a": {
          "model_module": "@jupyter-widgets/base",
          "model_name": "LayoutModel",
          "model_module_version": "1.2.0",
          "state": {
            "_model_module": "@jupyter-widgets/base",
            "_model_module_version": "1.2.0",
            "_model_name": "LayoutModel",
            "_view_count": null,
            "_view_module": "@jupyter-widgets/base",
            "_view_module_version": "1.2.0",
            "_view_name": "LayoutView",
            "align_content": null,
            "align_items": null,
            "align_self": null,
            "border": null,
            "bottom": null,
            "display": null,
            "flex": null,
            "flex_flow": null,
            "grid_area": null,
            "grid_auto_columns": null,
            "grid_auto_flow": null,
            "grid_auto_rows": null,
            "grid_column": null,
            "grid_gap": null,
            "grid_row": null,
            "grid_template_areas": null,
            "grid_template_columns": null,
            "grid_template_rows": null,
            "height": null,
            "justify_content": null,
            "justify_items": null,
            "left": null,
            "margin": null,
            "max_height": null,
            "max_width": null,
            "min_height": null,
            "min_width": null,
            "object_fit": null,
            "object_position": null,
            "order": null,
            "overflow": null,
            "overflow_x": null,
            "overflow_y": null,
            "padding": null,
            "right": null,
            "top": null,
            "visibility": null,
            "width": null
          }
        },
        "84137c5db2744168a3fa07bba47b2760": {
          "model_module": "@jupyter-widgets/controls",
          "model_name": "SliderStyleModel",
          "model_module_version": "1.5.0",
          "state": {
            "_model_module": "@jupyter-widgets/controls",
            "_model_module_version": "1.5.0",
            "_model_name": "SliderStyleModel",
            "_view_count": null,
            "_view_module": "@jupyter-widgets/base",
            "_view_module_version": "1.2.0",
            "_view_name": "StyleView",
            "description_width": "",
            "handle_color": null
          }
        },
        "6b258705f9714d6bbb96b6ef860a7590": {
          "model_module": "@jupyter-widgets/output",
          "model_name": "OutputModel",
          "model_module_version": "1.0.0",
          "state": {
            "_dom_classes": [],
            "_model_module": "@jupyter-widgets/output",
            "_model_module_version": "1.0.0",
            "_model_name": "OutputModel",
            "_view_count": null,
            "_view_module": "@jupyter-widgets/output",
            "_view_module_version": "1.0.0",
            "_view_name": "OutputView",
            "layout": "IPY_MODEL_dac949e7d1834377a9afa7a2c592947b",
            "msg_id": "",
            "outputs": [
              {
                "output_type": "display_data",
                "data": {
                  "text/plain": "<Figure size 600x600 with 1 Axes>",
                  "image/png": "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\n"
                },
                "metadata": {}
              }
            ]
          }
        },
        "dac949e7d1834377a9afa7a2c592947b": {
          "model_module": "@jupyter-widgets/base",
          "model_name": "LayoutModel",
          "model_module_version": "1.2.0",
          "state": {
            "_model_module": "@jupyter-widgets/base",
            "_model_module_version": "1.2.0",
            "_model_name": "LayoutModel",
            "_view_count": null,
            "_view_module": "@jupyter-widgets/base",
            "_view_module_version": "1.2.0",
            "_view_name": "LayoutView",
            "align_content": null,
            "align_items": null,
            "align_self": null,
            "border": null,
            "bottom": null,
            "display": null,
            "flex": null,
            "flex_flow": null,
            "grid_area": null,
            "grid_auto_columns": null,
            "grid_auto_flow": null,
            "grid_auto_rows": null,
            "grid_column": null,
            "grid_gap": null,
            "grid_row": null,
            "grid_template_areas": null,
            "grid_template_columns": null,
            "grid_template_rows": null,
            "height": null,
            "justify_content": null,
            "justify_items": null,
            "left": null,
            "margin": null,
            "max_height": null,
            "max_width": null,
            "min_height": null,
            "min_width": null,
            "object_fit": null,
            "object_position": null,
            "order": null,
            "overflow": null,
            "overflow_x": null,
            "overflow_y": null,
            "padding": null,
            "right": null,
            "top": null,
            "visibility": null,
            "width": null
          }
        }
      }
    }
  },
  "cells": [
    {
      "cell_type": "markdown",
      "metadata": {
        "id": "view-in-github",
        "colab_type": "text"
      },
      "source": [
        "<a href=\"https://colab.research.google.com/github/nidawahid28/project-4-assignments/blob/main/02_lists.ipynb\" target=\"_parent\"><img src=\"https://colab.research.google.com/assets/colab-badge.svg\" alt=\"Open In Colab\"/></a>"
      ]
    },
    {
      "cell_type": "code",
      "execution_count": null,
      "metadata": {
        "colab": {
          "base_uri": "https://localhost:8080/"
        },
        "id": "IppG74d43XOg",
        "outputId": "a60d5167-97af-4e3a-d159-1e8f3e5ea848"
      },
      "outputs": [
        {
          "output_type": "stream",
          "name": "stdout",
          "text": [
            "01_add_many_number\n",
            "15\n"
          ]
        }
      ],
      "source": [
        "print(\"01_add_many_number\")\n",
        "\n",
        "def add_number(numbers)->int:\n",
        "  num:int = 0\n",
        "  for i in numbers:\n",
        "    num += i\n",
        "  return num\n",
        "\n",
        "def main():\n",
        "  numbers: list[int] = [1, 2, 3, 4, 5]\n",
        "  sum = add_number(numbers)\n",
        "  print(sum)\n",
        "\n",
        "if __name__==\"__main__\":\n",
        "  main()\n"
      ]
    },
    {
      "cell_type": "code",
      "source": [
        "print(\"02_double_list\")\n",
        "\n",
        "def main():\n",
        "  numbers: list[int] = [1, 2, 3, 4, 5]\n",
        "  for i in range(len(numbers)):\n",
        "    index = numbers[i]\n",
        "    numbers[i] = index * 2\n",
        "  print(numbers)\n",
        "\n",
        "if __name__==\"__main__\":\n",
        "  main()\n",
        "\n"
      ],
      "metadata": {
        "colab": {
          "base_uri": "https://localhost:8080/"
        },
        "id": "98cZFwGcTPoM",
        "outputId": "e3f58ad6-3ede-412c-e357-2ff13efa7512"
      },
      "execution_count": null,
      "outputs": [
        {
          "output_type": "stream",
          "name": "stdout",
          "text": [
            "02_double_list\n",
            "[2, 4, 6, 8, 10]\n"
          ]
        }
      ]
    },
    {
      "cell_type": "code",
      "source": [
        "# Canvas Eraser using ipywidgets and matplotlib\n",
        "import numpy as np\n",
        "import matplotlib.pyplot as plt\n",
        "from matplotlib.patches import Rectangle\n",
        "import ipywidgets as widgets\n",
        "from IPython.display import display, clear_output\n",
        "\n",
        "print(\"03_erase_canvas\")\n",
        "\n",
        "# === Canvas Configuration ===\n",
        "CANVAS_WIDTH = 400      # Total width of canvas\n",
        "CANVAS_HEIGHT = 400     # Total height of canvas\n",
        "CELL_SIZE = 40          # Size of each square cell\n",
        "ERASER_SIZE = 20        # Size of eraser\n",
        "\n",
        "# Calculate number of rows and columns\n",
        "num_rows = CANVAS_HEIGHT // CELL_SIZE\n",
        "num_cols = CANVAS_WIDTH // CELL_SIZE\n",
        "\n",
        "# Track erased cells using a set\n",
        "erased_cells = set()\n",
        "\n",
        "# === Function to draw grid and eraser ===\n",
        "def draw_canvas(x=0, y=0):\n",
        "    clear_output(wait=True)  # Clear old canvas before drawing a new one\n",
        "\n",
        "    # Set up the plot\n",
        "    fig, ax = plt.subplots(figsize=(6, 6))\n",
        "    ax.set_xlim(0, CANVAS_WIDTH)\n",
        "    ax.set_ylim(0, CANVAS_HEIGHT)\n",
        "    ax.set_aspect('equal')\n",
        "    plt.gca().invert_yaxis()  # Invert Y to match screen layout\n",
        "    plt.axis('off')           # Hide axis lines\n",
        "\n",
        "    # Draw each cell\n",
        "    for row in range(num_rows):\n",
        "        for col in range(num_cols):\n",
        "            left = col * CELL_SIZE\n",
        "            top = row * CELL_SIZE\n",
        "            cell_id = (row, col)\n",
        "\n",
        "            # If eraser touches this cell, mark it as erased\n",
        "            if (\n",
        "                x < left + CELL_SIZE and x + ERASER_SIZE > left and\n",
        "                y < top + CELL_SIZE and y + ERASER_SIZE > top\n",
        "            ):\n",
        "                erased_cells.add(cell_id)\n",
        "\n",
        "            # Choose color: blue (default) or white (erased)\n",
        "            color = 'white' if cell_id in erased_cells else 'blue'\n",
        "            rect = Rectangle((left, top), CELL_SIZE, CELL_SIZE, color=color)\n",
        "            ax.add_patch(rect)\n",
        "\n",
        "    # Draw the eraser (pink square)\n",
        "    eraser = Rectangle((x, y), ERASER_SIZE, ERASER_SIZE, color='pink')\n",
        "    ax.add_patch(eraser)\n",
        "\n",
        "    # Show the updated canvas\n",
        "    plt.show()\n",
        "\n",
        "# === Create sliders to move the eraser ===\n",
        "x_slider = widgets.IntSlider(min=0, max=CANVAS_WIDTH - ERASER_SIZE, step=5, description='Eraser X')\n",
        "y_slider = widgets.IntSlider(min=0, max=CANVAS_HEIGHT - ERASER_SIZE, step=5, description='Eraser Y')\n",
        "\n",
        "# Connect sliders to the drawing function\n",
        "ui = widgets.VBox([x_slider, y_slider])\n",
        "out = widgets.interactive_output(draw_canvas, {'x': x_slider, 'y': y_slider})\n",
        "\n",
        "# === Display everything ===\n",
        "display(ui, out)\n",
        "\n"
      ],
      "metadata": {
        "colab": {
          "base_uri": "https://localhost:8080/",
          "height": 580,
          "referenced_widgets": [
            "51c98f9515424ccbb950bd4a82c0160b",
            "e4918ef1e1ee43228e2e20a4d3474345",
            "34b7e255e53a4526a34a8554004d5122",
            "6ef8e6351a514d91b02bbfff4e0a9a95",
            "9db86d3c54844b688c2a7a013b1eddd3",
            "e19a22d64b704d48b586d91347f96b1e",
            "89fb813915bb416799a5321b341b0a0a",
            "84137c5db2744168a3fa07bba47b2760",
            "6b258705f9714d6bbb96b6ef860a7590",
            "dac949e7d1834377a9afa7a2c592947b"
          ]
        },
        "id": "oAo6mKgWDoEF",
        "outputId": "5ff99412-1f3a-41a0-a9f9-3f19e8f75a18"
      },
      "execution_count": 25,
      "outputs": [
        {
          "output_type": "stream",
          "name": "stdout",
          "text": [
            "03_erase_canvas\n"
          ]
        },
        {
          "output_type": "display_data",
          "data": {
            "text/plain": [
              "VBox(children=(IntSlider(value=0, description='Eraser X', max=380, step=5), IntSlider(value=0, description='Er…"
            ],
            "application/vnd.jupyter.widget-view+json": {
              "version_major": 2,
              "version_minor": 0,
              "model_id": "51c98f9515424ccbb950bd4a82c0160b"
            }
          },
          "metadata": {}
        },
        {
          "output_type": "display_data",
          "data": {
            "text/plain": [
              "Output()"
            ],
            "application/vnd.jupyter.widget-view+json": {
              "version_major": 2,
              "version_minor": 0,
              "model_id": "6b258705f9714d6bbb96b6ef860a7590"
            }
          },
          "metadata": {}
        }
      ]
    },
    {
      "cell_type": "code",
      "source": [
        "print(\"04_flowing_with_data_structures\")\n",
        "\n",
        "def add_three_copies(my_list, data):\n",
        "  for i in range(3):\n",
        "    my_list.append(data)\n",
        "\n",
        "def main():\n",
        "  message = input(\"Enter a message to copy: \")\n",
        "  my_list = []\n",
        "  print(\"List before: \", my_list)\n",
        "  add_three_copies(my_list, message)\n",
        "  print(\"List after: \", my_list)\n",
        "\n",
        "if __name__==\"__main__\":\n",
        "  main()\n",
        "\n",
        "\n"
      ],
      "metadata": {
        "colab": {
          "base_uri": "https://localhost:8080/"
        },
        "id": "BJ0zxL5tN9oo",
        "outputId": "bde46715-ef2a-45ba-ada0-65bf72ccc407"
      },
      "execution_count": 6,
      "outputs": [
        {
          "output_type": "stream",
          "name": "stdout",
          "text": [
            "04_flowing_with_data_structures\n",
            "Enter a message to copy: Hello World!\n",
            "List before:  []\n",
            "List after:  ['Hello World!', 'Hello World!', 'Hello World!']\n"
          ]
        }
      ]
    },
    {
      "cell_type": "code",
      "source": [
        "print(\"05_get_first_element\")\n",
        "\n",
        "def get_first_element(lst):\n",
        "  print(lst[0])\n",
        "\n",
        "def get_lst():\n",
        "  lst = []\n",
        "  elem: str = input(\"Enter an element to add to the list: \")\n",
        "  while elem != \"\":\n",
        "     lst.append(elem)\n",
        "     elem = input(\"Enter an element to add to the list: \")\n",
        "  return lst\n",
        "\n",
        "def main():\n",
        "  lst = get_lst()\n",
        "  get_first_element(lst)\n",
        "\n",
        "if __name__ == \"__main__\":\n",
        "  main()"
      ],
      "metadata": {
        "colab": {
          "base_uri": "https://localhost:8080/"
        },
        "id": "dYSQw7P_RahY",
        "outputId": "bdcd660d-8056-4665-bf39-874d98b87533"
      },
      "execution_count": 13,
      "outputs": [
        {
          "output_type": "stream",
          "name": "stdout",
          "text": [
            "05_get_first_element\n",
            "Enter an element to add to the list: a\n",
            "Enter an element to add to the list: b\n",
            "Enter an element to add to the list: c\n",
            "Enter an element to add to the list: d\n",
            "Enter an element to add to the list: e\n",
            "Enter an element to add to the list: f\n",
            "Enter an element to add to the list: g\n",
            "Enter an element to add to the list: \n",
            "a\n"
          ]
        }
      ]
    },
    {
      "cell_type": "code",
      "source": [
        "print(\"06_get_last_element\")\n",
        "\n",
        "def get_last_element(lst):\n",
        "  print(lst[-1])\n",
        "\n",
        "def get_lst():\n",
        "  lst = []\n",
        "  elem: str = input(\"Enter an element to add to the list: \")\n",
        "  while elem != \"\":\n",
        "     lst.append(elem)\n",
        "     elem = input(\"Enter an element to add to the list: \")\n",
        "  return lst\n",
        "\n",
        "def main():\n",
        "  lst = get_lst()\n",
        "  get_last_element(lst)\n",
        "\n",
        "if __name__==\"__main__\":\n",
        "  main()\n",
        "\n",
        "\n",
        "\n"
      ],
      "metadata": {
        "colab": {
          "base_uri": "https://localhost:8080/"
        },
        "id": "7nuC0HqVX_sS",
        "outputId": "73350136-2379-4bf5-9009-5ab0def15382"
      },
      "execution_count": 15,
      "outputs": [
        {
          "output_type": "stream",
          "name": "stdout",
          "text": [
            "06_get_last_element\n",
            "Enter an element to add to the list: h\n",
            "Enter an element to add to the list: j\n",
            "Enter an element to add to the list: k\n",
            "Enter an element to add to the list: l\n",
            "Enter an element to add to the list: \n",
            "l\n"
          ]
        }
      ]
    },
    {
      "cell_type": "code",
      "source": [
        "print(\"07_get_list\")\n",
        "\n",
        "def main():\n",
        "  lst = []\n",
        "  val = input(\"Enter a value to add to the list: \")\n",
        "  while val:\n",
        "    lst.append(val)\n",
        "    val = input(\"Enter a value to add to the list: \")\n",
        "  print(\"Here is the list: \", lst)\n",
        "if __name__==\"__main__\":\n",
        "  main()\n",
        "\n",
        ""
      ],
      "metadata": {
        "colab": {
          "base_uri": "https://localhost:8080/"
        },
        "id": "gcqUEzQefS0h",
        "outputId": "f499a8b3-9fcd-4f95-b22a-648ed980592c"
      },
      "execution_count": 19,
      "outputs": [
        {
          "output_type": "stream",
          "name": "stdout",
          "text": [
            "07_get_list\n",
            "Enter a value to add to the list: ali\n",
            "Enter a value to add to the list: zara\n",
            "Enter a value to add to the list: rabia\n",
            "Enter a value to add to the list: zubair\n",
            "Enter a value to add to the list: hira\n",
            "Enter a value to add to the list: rameez\n",
            "Enter a value to add to the list: \n",
            "Here is the list:  ['ali', 'zara', 'rabia', 'zubair', 'hira', 'rameez']\n"
          ]
        }
      ]
    },
    {
      "cell_type": "code",
      "source": [
        "print(\"08_shorten\")\n",
        "\n",
        "MAX_LENGTH: int = 3\n",
        "\n",
        "def shorten(lst):\n",
        "  while len(lst) > MAX_LENGTH:\n",
        "    last_element = lst.pop()\n",
        "    print(last_element)\n",
        "\n",
        "def get_lst():\n",
        "  lst = []\n",
        "  element = input(\"Enter an element to add to the list: \")\n",
        "  while element != \"\":\n",
        "    lst.append(element)\n",
        "    element = input(\"Enter an element to add to the list: \")\n",
        "  return lst\n",
        "\n",
        "def main():\n",
        "  lst = get_lst()\n",
        "  shorten(lst)\n",
        "\n",
        "if __name__==\"__main__\":\n",
        "  main()\n",
        "\n",
        "\n"
      ],
      "metadata": {
        "colab": {
          "base_uri": "https://localhost:8080/"
        },
        "id": "euuVEcF-hpBk",
        "outputId": "9bb78116-9821-45a6-8268-87445e8b5ea6"
      },
      "execution_count": 23,
      "outputs": [
        {
          "output_type": "stream",
          "name": "stdout",
          "text": [
            "08_shorten\n",
            "Enter an element to add to the list: pink\n",
            "Enter an element to add to the list: purple\n",
            "Enter an element to add to the list: grey\n",
            "Enter an element to add to the list: white\n",
            "Enter an element to add to the list: black\n",
            "Enter an element to add to the list: orange\n",
            "Enter an element to add to the list: red\n",
            "Enter an element to add to the list: \n",
            "red\n",
            "orange\n",
            "black\n",
            "white\n"
          ]
        }
      ]
    }
  ]
}